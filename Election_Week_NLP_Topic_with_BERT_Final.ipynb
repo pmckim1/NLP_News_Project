{
  "nbformat": 4,
  "nbformat_minor": 0,
  "metadata": {
    "accelerator": "GPU",
    "colab": {
      "name": "Election_Week_NLP_Topic_with_BERT_Final.ipynb",
      "provenance": [],
      "collapsed_sections": [],
      "include_colab_link": true
    },
    "kernelspec": {
      "display_name": "Python 3",
      "language": "python",
      "name": "python3"
    },
    "language_info": {
      "codemirror_mode": {
        "name": "ipython",
        "version": 3
      },
      "file_extension": ".py",
      "mimetype": "text/x-python",
      "name": "python",
      "nbconvert_exporter": "python",
      "pygments_lexer": "ipython3",
      "version": "3.7.3"
    },
    "widgets": {
      "application/vnd.jupyter.widget-state+json": {
        "2715c9716a5a4b52ab324c9ed338a5ef": {
          "model_module": "@jupyter-widgets/controls",
          "model_name": "HBoxModel",
          "state": {
            "_view_name": "HBoxView",
            "_dom_classes": [],
            "_model_name": "HBoxModel",
            "_view_module": "@jupyter-widgets/controls",
            "_model_module_version": "1.5.0",
            "_view_count": null,
            "_view_module_version": "1.5.0",
            "box_style": "",
            "layout": "IPY_MODEL_7e094684bf3d403fbb8487f0e56ffe7a",
            "_model_module": "@jupyter-widgets/controls",
            "children": [
              "IPY_MODEL_e224e5b3bbb846b58dc77678633f78c8",
              "IPY_MODEL_5e4ad3d4e618412886553cd90e3f038e"
            ]
          }
        },
        "7e094684bf3d403fbb8487f0e56ffe7a": {
          "model_module": "@jupyter-widgets/base",
          "model_name": "LayoutModel",
          "state": {
            "_view_name": "LayoutView",
            "grid_template_rows": null,
            "right": null,
            "justify_content": null,
            "_view_module": "@jupyter-widgets/base",
            "overflow": null,
            "_model_module_version": "1.2.0",
            "_view_count": null,
            "flex_flow": null,
            "width": null,
            "min_width": null,
            "border": null,
            "align_items": null,
            "bottom": null,
            "_model_module": "@jupyter-widgets/base",
            "top": null,
            "grid_column": null,
            "overflow_y": null,
            "overflow_x": null,
            "grid_auto_flow": null,
            "grid_area": null,
            "grid_template_columns": null,
            "flex": null,
            "_model_name": "LayoutModel",
            "justify_items": null,
            "grid_row": null,
            "max_height": null,
            "align_content": null,
            "visibility": null,
            "align_self": null,
            "height": null,
            "min_height": null,
            "padding": null,
            "grid_auto_rows": null,
            "grid_gap": null,
            "max_width": null,
            "order": null,
            "_view_module_version": "1.2.0",
            "grid_template_areas": null,
            "object_position": null,
            "object_fit": null,
            "grid_auto_columns": null,
            "margin": null,
            "display": null,
            "left": null
          }
        },
        "e224e5b3bbb846b58dc77678633f78c8": {
          "model_module": "@jupyter-widgets/controls",
          "model_name": "FloatProgressModel",
          "state": {
            "_view_name": "ProgressView",
            "style": "IPY_MODEL_6ce252356a1a42e48174a05385966ca4",
            "_dom_classes": [],
            "description": "Batches: 100%",
            "_model_name": "FloatProgressModel",
            "bar_style": "success",
            "max": 22,
            "_view_module": "@jupyter-widgets/controls",
            "_model_module_version": "1.5.0",
            "value": 22,
            "_view_count": null,
            "_view_module_version": "1.5.0",
            "orientation": "horizontal",
            "min": 0,
            "description_tooltip": null,
            "_model_module": "@jupyter-widgets/controls",
            "layout": "IPY_MODEL_7ce3f3f87cf74b099e00b78f6f59e607"
          }
        },
        "5e4ad3d4e618412886553cd90e3f038e": {
          "model_module": "@jupyter-widgets/controls",
          "model_name": "HTMLModel",
          "state": {
            "_view_name": "HTMLView",
            "style": "IPY_MODEL_c0dc2b65d05d45c7ab03d04708b86494",
            "_dom_classes": [],
            "description": "",
            "_model_name": "HTMLModel",
            "placeholder": "​",
            "_view_module": "@jupyter-widgets/controls",
            "_model_module_version": "1.5.0",
            "value": " 22/22 [00:10&lt;00:00,  2.20it/s]",
            "_view_count": null,
            "_view_module_version": "1.5.0",
            "description_tooltip": null,
            "_model_module": "@jupyter-widgets/controls",
            "layout": "IPY_MODEL_9a12c6958a0f4273b9c90a4dec8c4f46"
          }
        },
        "6ce252356a1a42e48174a05385966ca4": {
          "model_module": "@jupyter-widgets/controls",
          "model_name": "ProgressStyleModel",
          "state": {
            "_view_name": "StyleView",
            "_model_name": "ProgressStyleModel",
            "description_width": "initial",
            "_view_module": "@jupyter-widgets/base",
            "_model_module_version": "1.5.0",
            "_view_count": null,
            "_view_module_version": "1.2.0",
            "bar_color": null,
            "_model_module": "@jupyter-widgets/controls"
          }
        },
        "7ce3f3f87cf74b099e00b78f6f59e607": {
          "model_module": "@jupyter-widgets/base",
          "model_name": "LayoutModel",
          "state": {
            "_view_name": "LayoutView",
            "grid_template_rows": null,
            "right": null,
            "justify_content": null,
            "_view_module": "@jupyter-widgets/base",
            "overflow": null,
            "_model_module_version": "1.2.0",
            "_view_count": null,
            "flex_flow": null,
            "width": null,
            "min_width": null,
            "border": null,
            "align_items": null,
            "bottom": null,
            "_model_module": "@jupyter-widgets/base",
            "top": null,
            "grid_column": null,
            "overflow_y": null,
            "overflow_x": null,
            "grid_auto_flow": null,
            "grid_area": null,
            "grid_template_columns": null,
            "flex": null,
            "_model_name": "LayoutModel",
            "justify_items": null,
            "grid_row": null,
            "max_height": null,
            "align_content": null,
            "visibility": null,
            "align_self": null,
            "height": null,
            "min_height": null,
            "padding": null,
            "grid_auto_rows": null,
            "grid_gap": null,
            "max_width": null,
            "order": null,
            "_view_module_version": "1.2.0",
            "grid_template_areas": null,
            "object_position": null,
            "object_fit": null,
            "grid_auto_columns": null,
            "margin": null,
            "display": null,
            "left": null
          }
        },
        "c0dc2b65d05d45c7ab03d04708b86494": {
          "model_module": "@jupyter-widgets/controls",
          "model_name": "DescriptionStyleModel",
          "state": {
            "_view_name": "StyleView",
            "_model_name": "DescriptionStyleModel",
            "description_width": "",
            "_view_module": "@jupyter-widgets/base",
            "_model_module_version": "1.5.0",
            "_view_count": null,
            "_view_module_version": "1.2.0",
            "_model_module": "@jupyter-widgets/controls"
          }
        },
        "9a12c6958a0f4273b9c90a4dec8c4f46": {
          "model_module": "@jupyter-widgets/base",
          "model_name": "LayoutModel",
          "state": {
            "_view_name": "LayoutView",
            "grid_template_rows": null,
            "right": null,
            "justify_content": null,
            "_view_module": "@jupyter-widgets/base",
            "overflow": null,
            "_model_module_version": "1.2.0",
            "_view_count": null,
            "flex_flow": null,
            "width": null,
            "min_width": null,
            "border": null,
            "align_items": null,
            "bottom": null,
            "_model_module": "@jupyter-widgets/base",
            "top": null,
            "grid_column": null,
            "overflow_y": null,
            "overflow_x": null,
            "grid_auto_flow": null,
            "grid_area": null,
            "grid_template_columns": null,
            "flex": null,
            "_model_name": "LayoutModel",
            "justify_items": null,
            "grid_row": null,
            "max_height": null,
            "align_content": null,
            "visibility": null,
            "align_self": null,
            "height": null,
            "min_height": null,
            "padding": null,
            "grid_auto_rows": null,
            "grid_gap": null,
            "max_width": null,
            "order": null,
            "_view_module_version": "1.2.0",
            "grid_template_areas": null,
            "object_position": null,
            "object_fit": null,
            "grid_auto_columns": null,
            "margin": null,
            "display": null,
            "left": null
          }
        }
      }
    }
  },
  "cells": [
    {
      "cell_type": "markdown",
      "metadata": {
        "id": "view-in-github",
        "colab_type": "text"
      },
      "source": [
        "<a href=\"https://colab.research.google.com/github/pmckim1/NLP_News_Project/blob/main/Election_Week_NLP_Topic_with_BERT_Final.ipynb\" target=\"_parent\"><img src=\"https://colab.research.google.com/assets/colab-badge.svg\" alt=\"Open In Colab\"/></a>"
      ]
    },
    {
      "cell_type": "markdown",
      "metadata": {
        "id": "q8uxCSNqoXh4"
      },
      "source": [
        "# Topic Modeling with BERT: Election Week "
      ]
    },
    {
      "cell_type": "code",
      "metadata": {
        "colab": {
          "base_uri": "https://localhost:8080/"
        },
        "id": "_6B-3RhaX5Bf",
        "outputId": "18a77c9b-5dc9-4bf0-ead3-9c4bf2e32c5c"
      },
      "source": [
        "!pip install hdbscan\n",
        "!pip install sentence_transformers\n",
        "!pip install umap"
      ],
      "execution_count": 1,
      "outputs": [
        {
          "output_type": "stream",
          "text": [
            "Collecting hdbscan\n",
            "\u001b[?25l  Downloading https://files.pythonhosted.org/packages/22/2f/2423d844072f007a74214c1adc46260e45f034bb1679ccadfbb8a601f647/hdbscan-0.8.26.tar.gz (4.7MB)\n",
            "\u001b[K     |████████████████████████████████| 4.7MB 17.0MB/s \n",
            "\u001b[?25h  Installing build dependencies ... \u001b[?25l\u001b[?25hdone\n",
            "  Getting requirements to build wheel ... \u001b[?25l\u001b[?25hdone\n",
            "    Preparing wheel metadata ... \u001b[?25l\u001b[?25hdone\n",
            "Requirement already satisfied: numpy>=1.16.0 in /usr/local/lib/python3.6/dist-packages (from hdbscan) (1.19.4)\n",
            "Requirement already satisfied: scipy>=0.9 in /usr/local/lib/python3.6/dist-packages (from hdbscan) (1.4.1)\n",
            "Requirement already satisfied: cython>=0.27 in /usr/local/lib/python3.6/dist-packages (from hdbscan) (0.29.21)\n",
            "Requirement already satisfied: scikit-learn>=0.17 in /usr/local/lib/python3.6/dist-packages (from hdbscan) (0.22.2.post1)\n",
            "Requirement already satisfied: joblib in /usr/local/lib/python3.6/dist-packages (from hdbscan) (1.0.0)\n",
            "Requirement already satisfied: six in /usr/local/lib/python3.6/dist-packages (from hdbscan) (1.15.0)\n",
            "Building wheels for collected packages: hdbscan\n",
            "  Building wheel for hdbscan (PEP 517) ... \u001b[?25l\u001b[?25hdone\n",
            "  Created wheel for hdbscan: filename=hdbscan-0.8.26-cp36-cp36m-linux_x86_64.whl size=2301794 sha256=1d02fcb8f9598f2a3a5814290a129b10dbcea6f3b05215647701c056e73e86e0\n",
            "  Stored in directory: /root/.cache/pip/wheels/82/38/41/372f034d8abd271ef7787a681e0a47fc05d472683a7eb088ed\n",
            "Successfully built hdbscan\n",
            "Installing collected packages: hdbscan\n",
            "Successfully installed hdbscan-0.8.26\n",
            "Collecting sentence_transformers\n",
            "\u001b[?25l  Downloading https://files.pythonhosted.org/packages/f5/5a/6e41e8383913dd2ba923cdcd02be2e03911595f4d2f9de559ecbed80d2d3/sentence-transformers-0.3.9.tar.gz (64kB)\n",
            "\u001b[K     |████████████████████████████████| 71kB 6.8MB/s \n",
            "\u001b[?25hCollecting transformers<3.6.0,>=3.1.0\n",
            "\u001b[?25l  Downloading https://files.pythonhosted.org/packages/3a/83/e74092e7f24a08d751aa59b37a9fc572b2e4af3918cb66f7766c3affb1b4/transformers-3.5.1-py3-none-any.whl (1.3MB)\n",
            "\u001b[K     |████████████████████████████████| 1.3MB 17.8MB/s \n",
            "\u001b[?25hRequirement already satisfied: tqdm in /usr/local/lib/python3.6/dist-packages (from sentence_transformers) (4.41.1)\n",
            "Requirement already satisfied: torch>=1.6.0 in /usr/local/lib/python3.6/dist-packages (from sentence_transformers) (1.7.0+cu101)\n",
            "Requirement already satisfied: numpy in /usr/local/lib/python3.6/dist-packages (from sentence_transformers) (1.19.4)\n",
            "Requirement already satisfied: scikit-learn in /usr/local/lib/python3.6/dist-packages (from sentence_transformers) (0.22.2.post1)\n",
            "Requirement already satisfied: scipy in /usr/local/lib/python3.6/dist-packages (from sentence_transformers) (1.4.1)\n",
            "Requirement already satisfied: nltk in /usr/local/lib/python3.6/dist-packages (from sentence_transformers) (3.2.5)\n",
            "Requirement already satisfied: requests in /usr/local/lib/python3.6/dist-packages (from transformers<3.6.0,>=3.1.0->sentence_transformers) (2.23.0)\n",
            "Requirement already satisfied: protobuf in /usr/local/lib/python3.6/dist-packages (from transformers<3.6.0,>=3.1.0->sentence_transformers) (3.12.4)\n",
            "Requirement already satisfied: dataclasses; python_version < \"3.7\" in /usr/local/lib/python3.6/dist-packages (from transformers<3.6.0,>=3.1.0->sentence_transformers) (0.8)\n",
            "Requirement already satisfied: filelock in /usr/local/lib/python3.6/dist-packages (from transformers<3.6.0,>=3.1.0->sentence_transformers) (3.0.12)\n",
            "Collecting tokenizers==0.9.3\n",
            "\u001b[?25l  Downloading https://files.pythonhosted.org/packages/4c/34/b39eb9994bc3c999270b69c9eea40ecc6f0e97991dba28282b9fd32d44ee/tokenizers-0.9.3-cp36-cp36m-manylinux1_x86_64.whl (2.9MB)\n",
            "\u001b[K     |████████████████████████████████| 2.9MB 50.0MB/s \n",
            "\u001b[?25hRequirement already satisfied: packaging in /usr/local/lib/python3.6/dist-packages (from transformers<3.6.0,>=3.1.0->sentence_transformers) (20.8)\n",
            "Requirement already satisfied: regex!=2019.12.17 in /usr/local/lib/python3.6/dist-packages (from transformers<3.6.0,>=3.1.0->sentence_transformers) (2019.12.20)\n",
            "Collecting sentencepiece==0.1.91\n",
            "\u001b[?25l  Downloading https://files.pythonhosted.org/packages/d4/a4/d0a884c4300004a78cca907a6ff9a5e9fe4f090f5d95ab341c53d28cbc58/sentencepiece-0.1.91-cp36-cp36m-manylinux1_x86_64.whl (1.1MB)\n",
            "\u001b[K     |████████████████████████████████| 1.1MB 55.1MB/s \n",
            "\u001b[?25hCollecting sacremoses\n",
            "\u001b[?25l  Downloading https://files.pythonhosted.org/packages/7d/34/09d19aff26edcc8eb2a01bed8e98f13a1537005d31e95233fd48216eed10/sacremoses-0.0.43.tar.gz (883kB)\n",
            "\u001b[K     |████████████████████████████████| 890kB 47.8MB/s \n",
            "\u001b[?25hRequirement already satisfied: future in /usr/local/lib/python3.6/dist-packages (from torch>=1.6.0->sentence_transformers) (0.16.0)\n",
            "Requirement already satisfied: typing-extensions in /usr/local/lib/python3.6/dist-packages (from torch>=1.6.0->sentence_transformers) (3.7.4.3)\n",
            "Requirement already satisfied: joblib>=0.11 in /usr/local/lib/python3.6/dist-packages (from scikit-learn->sentence_transformers) (1.0.0)\n",
            "Requirement already satisfied: six in /usr/local/lib/python3.6/dist-packages (from nltk->sentence_transformers) (1.15.0)\n",
            "Requirement already satisfied: chardet<4,>=3.0.2 in /usr/local/lib/python3.6/dist-packages (from requests->transformers<3.6.0,>=3.1.0->sentence_transformers) (3.0.4)\n",
            "Requirement already satisfied: idna<3,>=2.5 in /usr/local/lib/python3.6/dist-packages (from requests->transformers<3.6.0,>=3.1.0->sentence_transformers) (2.10)\n",
            "Requirement already satisfied: urllib3!=1.25.0,!=1.25.1,<1.26,>=1.21.1 in /usr/local/lib/python3.6/dist-packages (from requests->transformers<3.6.0,>=3.1.0->sentence_transformers) (1.24.3)\n",
            "Requirement already satisfied: certifi>=2017.4.17 in /usr/local/lib/python3.6/dist-packages (from requests->transformers<3.6.0,>=3.1.0->sentence_transformers) (2020.12.5)\n",
            "Requirement already satisfied: setuptools in /usr/local/lib/python3.6/dist-packages (from protobuf->transformers<3.6.0,>=3.1.0->sentence_transformers) (50.3.2)\n",
            "Requirement already satisfied: pyparsing>=2.0.2 in /usr/local/lib/python3.6/dist-packages (from packaging->transformers<3.6.0,>=3.1.0->sentence_transformers) (2.4.7)\n",
            "Requirement already satisfied: click in /usr/local/lib/python3.6/dist-packages (from sacremoses->transformers<3.6.0,>=3.1.0->sentence_transformers) (7.1.2)\n",
            "Building wheels for collected packages: sentence-transformers, sacremoses\n",
            "  Building wheel for sentence-transformers (setup.py) ... \u001b[?25l\u001b[?25hdone\n",
            "  Created wheel for sentence-transformers: filename=sentence_transformers-0.3.9-cp36-none-any.whl size=101035 sha256=dd47a810bcd3e7da640c4b096232002a2429351178a720a919a668ff32bbe7a5\n",
            "  Stored in directory: /root/.cache/pip/wheels/fc/89/43/f2f5bc00b03ef9724b0f6254a97eaf159a4c4ddc024b33e07a\n",
            "  Building wheel for sacremoses (setup.py) ... \u001b[?25l\u001b[?25hdone\n",
            "  Created wheel for sacremoses: filename=sacremoses-0.0.43-cp36-none-any.whl size=893261 sha256=dd8c784e37394729220a603ecc20ff4cc2af7395012dfd4eebbc20524c1795d8\n",
            "  Stored in directory: /root/.cache/pip/wheels/29/3c/fd/7ce5c3f0666dab31a50123635e6fb5e19ceb42ce38d4e58f45\n",
            "Successfully built sentence-transformers sacremoses\n",
            "Installing collected packages: tokenizers, sentencepiece, sacremoses, transformers, sentence-transformers\n",
            "Successfully installed sacremoses-0.0.43 sentence-transformers-0.3.9 sentencepiece-0.1.91 tokenizers-0.9.3 transformers-3.5.1\n",
            "Collecting umap\n",
            "  Downloading https://files.pythonhosted.org/packages/4b/46/08ab68936625400fe690684428d4db4764f49b406782cc133df1d0299d06/umap-0.1.1.tar.gz\n",
            "Building wheels for collected packages: umap\n",
            "  Building wheel for umap (setup.py) ... \u001b[?25l\u001b[?25hdone\n",
            "  Created wheel for umap: filename=umap-0.1.1-cp36-none-any.whl size=3567 sha256=4709c5f888c05a4a12031a745b6004ec175e18f8abf0065ae2102c8b4d42d1bd\n",
            "  Stored in directory: /root/.cache/pip/wheels/7b/29/33/b4d917dc95f69c0a060e2ab012d95e15db9ed4cc0b94ccac26\n",
            "Successfully built umap\n",
            "Installing collected packages: umap\n",
            "Successfully installed umap-0.1.1\n"
          ],
          "name": "stdout"
        }
      ]
    },
    {
      "cell_type": "code",
      "metadata": {
        "id": "GFenB5sr6F6n"
      },
      "source": [
        "import numpy as np\n",
        "import pandas as pd\n",
        "import umap\n",
        "import nltk\n",
        "import hdbscan\n",
        "from sentence_transformers import SentenceTransformer\n",
        "from sklearn.feature_extraction.text import CountVectorizer\n",
        "from sklearn.metrics.pairwise import cosine_similarity\n",
        "from tqdm import tqdm\n",
        "import matplotlib.pyplot as plt\n",
        "from nltk import word_tokenize\n",
        "from nltk.stem.wordnet import WordNetLemmatizer\n",
        "\n",
        "\n",
        "def c_tf_idf(documents, m, ngram_range=(1, 1)):\n",
        "    \"\"\" Calculate a class-based TF-IDF where m is the number of total documents. \"\"\"\n",
        "    count = CountVectorizer(ngram_range=ngram_range, stop_words=\"english\").fit(documents)\n",
        "    t = count.transform(documents).toarray()\n",
        "    w = t.sum(axis=1)\n",
        "    tf = np.divide(t.T, w)\n",
        "    sum_t = t.sum(axis=0)\n",
        "    idf = np.log(np.divide(m, sum_t)).reshape(-1, 1)\n",
        "    tf_idf = np.multiply(tf, idf)\n",
        "\n",
        "    return tf_idf, count\n",
        "\n",
        "def extract_top_n_words_per_topic(tf_idf, count, docs_per_topic, n=20):\n",
        "    words = count.get_feature_names()\n",
        "    labels = list(docs_per_topic.Topic)\n",
        "    tf_idf_transposed = tf_idf.T\n",
        "    indices = tf_idf_transposed.argsort()[:, -n:]\n",
        "    top_n_words = {label: [(words[j], tf_idf_transposed[i][j]) for j in indices[i]][::-1] for i, label in enumerate(labels)}\n",
        "    return top_n_words\n",
        "\n",
        "def extract_topic_sizes(df):\n",
        "    topic_sizes = (df.groupby(['Topic'])\n",
        "                     .Doc\n",
        "                     .count()\n",
        "                     .reset_index()\n",
        "                     .rename({\"Topic\": \"Topic\", \"Doc\": \"Size\"}, axis='columns')\n",
        "                     .sort_values(\"Size\", ascending=False))\n",
        "    return topic_sizes"
      ],
      "execution_count": 2,
      "outputs": []
    },
    {
      "cell_type": "markdown",
      "metadata": {
        "id": "MVLh9q2aRJd3"
      },
      "source": [
        "## Load data\n"
      ]
    },
    {
      "cell_type": "code",
      "metadata": {
        "id": "i47mA1qY6O04",
        "colab": {
          "base_uri": "https://localhost:8080/"
        },
        "outputId": "43e53ee6-f284-45e9-a887-e78d3be70377"
      },
      "source": [
        "import os\n",
        "from google.colab import drive\n",
        "import sys\n",
        "import pandas as pd\n",
        "import umap.umap_ as umap\n",
        "import json\n",
        "# Mount Google Drive\n",
        "drive.mount('/content/drive')\n",
        "\n",
        "# Get the absolute path of the current folder\n",
        "abspath_curr = '/content/drive/My Drive/nlpproj/'\n",
        "\n",
        "# dataset was cleaned in R has weeks 4 & 5: weeks around the US Election \n",
        "data_set = pd.read_csv(abspath_curr + 'eleweeks.csv', header=0)\n",
        "\n",
        "data = data_set[\"text\"].to_list()\n"
      ],
      "execution_count": 3,
      "outputs": [
        {
          "output_type": "stream",
          "text": [
            "Mounted at /content/drive\n"
          ],
          "name": "stdout"
        }
      ]
    },
    {
      "cell_type": "code",
      "metadata": {
        "id": "bS5sMQE8Ggw3",
        "colab": {
          "base_uri": "https://localhost:8080/",
          "height": 197
        },
        "outputId": "7a5cf957-61be-41b8-9bdf-32434edfdac0"
      },
      "source": [
        "len(data_set)\n",
        "data_set.tail()"
      ],
      "execution_count": 4,
      "outputs": [
        {
          "output_type": "execute_result",
          "data": {
            "text/html": [
              "<div>\n",
              "<style scoped>\n",
              "    .dataframe tbody tr th:only-of-type {\n",
              "        vertical-align: middle;\n",
              "    }\n",
              "\n",
              "    .dataframe tbody tr th {\n",
              "        vertical-align: top;\n",
              "    }\n",
              "\n",
              "    .dataframe thead th {\n",
              "        text-align: right;\n",
              "    }\n",
              "</style>\n",
              "<table border=\"1\" class=\"dataframe\">\n",
              "  <thead>\n",
              "    <tr style=\"text-align: right;\">\n",
              "      <th></th>\n",
              "      <th>article number</th>\n",
              "      <th>headline</th>\n",
              "      <th>webPublicationDate</th>\n",
              "      <th>text</th>\n",
              "      <th>snippet</th>\n",
              "      <th>section</th>\n",
              "      <th>source</th>\n",
              "      <th>week</th>\n",
              "    </tr>\n",
              "  </thead>\n",
              "  <tbody>\n",
              "    <tr>\n",
              "      <th>692</th>\n",
              "      <td>1962</td>\n",
              "      <td>UK death toll from Covid-19 passes 50,000</td>\n",
              "      <td>11/11/20</td>\n",
              "      <td>The UK’s Covid-19 death toll has surpassed 50,...</td>\n",
              "      <td>NaN</td>\n",
              "      <td>Foreign</td>\n",
              "      <td>Guardian</td>\n",
              "      <td>5</td>\n",
              "    </tr>\n",
              "    <tr>\n",
              "      <th>693</th>\n",
              "      <td>1963</td>\n",
              "      <td>UK government must condemn Trump denial of def...</td>\n",
              "      <td>11/11/20</td>\n",
              "      <td>The government should condemn Donald Trump’s r...</td>\n",
              "      <td>NaN</td>\n",
              "      <td>Politics</td>\n",
              "      <td>Guardian</td>\n",
              "      <td>5</td>\n",
              "    </tr>\n",
              "    <tr>\n",
              "      <th>694</th>\n",
              "      <td>1964</td>\n",
              "      <td>US Covid response must tie economic recovery t...</td>\n",
              "      <td>11/11/20</td>\n",
              "      <td>Politicians and officials leading the US respo...</td>\n",
              "      <td>NaN</td>\n",
              "      <td>Foreign</td>\n",
              "      <td>Guardian</td>\n",
              "      <td>5</td>\n",
              "    </tr>\n",
              "    <tr>\n",
              "      <th>695</th>\n",
              "      <td>1965</td>\n",
              "      <td>Vote Leave's Lee Cain tipped as next Downing S...</td>\n",
              "      <td>11/11/20</td>\n",
              "      <td>One of Boris Johnson’s most loyal allies, Lee ...</td>\n",
              "      <td>NaN</td>\n",
              "      <td>Politics</td>\n",
              "      <td>Guardian</td>\n",
              "      <td>5</td>\n",
              "    </tr>\n",
              "    <tr>\n",
              "      <th>696</th>\n",
              "      <td>1966</td>\n",
              "      <td>‘We’re in power now’: Evo Morales makes gleefu...</td>\n",
              "      <td>11/11/20</td>\n",
              "      <td>Tens of thousands of jubilant followers have w...</td>\n",
              "      <td>NaN</td>\n",
              "      <td>Foreign</td>\n",
              "      <td>Guardian</td>\n",
              "      <td>5</td>\n",
              "    </tr>\n",
              "  </tbody>\n",
              "</table>\n",
              "</div>"
            ],
            "text/plain": [
              "     article number  ... week\n",
              "692            1962  ...    5\n",
              "693            1963  ...    5\n",
              "694            1964  ...    5\n",
              "695            1965  ...    5\n",
              "696            1966  ...    5\n",
              "\n",
              "[5 rows x 8 columns]"
            ]
          },
          "metadata": {
            "tags": []
          },
          "execution_count": 4
        }
      ]
    },
    {
      "cell_type": "markdown",
      "metadata": {
        "id": "9BuND9OQRNVx"
      },
      "source": [
        "## Create embeddings\n",
        "Conver the documents to numerical data. We are modeling topics with **BERT** \n",
        "\n",
        " "
      ]
    },
    {
      "cell_type": "code",
      "metadata": {
        "id": "PPTyoDcV6cdA",
        "colab": {
          "base_uri": "https://localhost:8080/",
          "height": 120,
          "referenced_widgets": [
            "2715c9716a5a4b52ab324c9ed338a5ef",
            "7e094684bf3d403fbb8487f0e56ffe7a",
            "e224e5b3bbb846b58dc77678633f78c8",
            "5e4ad3d4e618412886553cd90e3f038e",
            "6ce252356a1a42e48174a05385966ca4",
            "7ce3f3f87cf74b099e00b78f6f59e607",
            "c0dc2b65d05d45c7ab03d04708b86494",
            "9a12c6958a0f4273b9c90a4dec8c4f46"
          ]
        },
        "outputId": "fb80426d-978e-480d-f935-b394b8f8f88f"
      },
      "source": [
        "%%time\n",
        "model = SentenceTransformer('distilbert-base-nli-mean-tokens')\n",
        "embeddings = model.encode(data_set[\"text\"], show_progress_bar=True)"
      ],
      "execution_count": 5,
      "outputs": [
        {
          "output_type": "stream",
          "text": [
            "100%|██████████| 245M/245M [00:20<00:00, 11.9MB/s]\n"
          ],
          "name": "stderr"
        },
        {
          "output_type": "display_data",
          "data": {
            "application/vnd.jupyter.widget-view+json": {
              "model_id": "2715c9716a5a4b52ab324c9ed338a5ef",
              "version_minor": 0,
              "version_major": 2
            },
            "text/plain": [
              "HBox(children=(FloatProgress(value=0.0, description='Batches', max=22.0, style=ProgressStyle(description_width…"
            ]
          },
          "metadata": {
            "tags": []
          }
        },
        {
          "output_type": "stream",
          "text": [
            "\n",
            "CPU times: user 19.4 s, sys: 4.06 s, total: 23.5 s\n",
            "Wall time: 50 s\n"
          ],
          "name": "stdout"
        }
      ]
    },
    {
      "cell_type": "markdown",
      "metadata": {
        "id": "rO1GX8TvRXCM"
      },
      "source": [
        "## Reduce dimensionality\n",
        "Use **UMAP** to reduce the dimensionality of the embeddings created for customized berttopic model mentioned above. It is important to keep a little bit of dimensionality as that allows the reduced embeddings to contain more structure to improve clustering at a later stage. \n",
        "\n",
        "You can play around with the **number of components** (dimensionality to reduce to) and the **number of neighbors** (the nearby points to look at). "
      ]
    },
    {
      "cell_type": "code",
      "metadata": {
        "id": "V_rBb73b7AKd",
        "colab": {
          "base_uri": "https://localhost:8080/"
        },
        "outputId": "2bff4468-7482-4920-f3f6-7b8be05d7cda"
      },
      "source": [
        "%%time\n",
        "\n",
        "\n",
        "umap_embeddings = umap.UMAP(n_neighbors=3,\n",
        "                            n_components=5,\n",
        "                            min_dist=0.0,\n",
        "                            metric='cosine',\n",
        "                            random_state=42).fit_transform(embeddings)\n",
        "          "
      ],
      "execution_count": 6,
      "outputs": [
        {
          "output_type": "stream",
          "text": [
            "CPU times: user 6.47 s, sys: 193 ms, total: 6.66 s\n",
            "Wall time: 6.54 s\n"
          ],
          "name": "stdout"
        }
      ]
    },
    {
      "cell_type": "markdown",
      "metadata": {
        "id": "p_STjPe9RxSO"
      },
      "source": [
        "## Cluster documents\n",
        "Use **HDBSCAN** to find highly-densed clusters. **minimum cluster size** enables use to decrease the number of topics found and increase the topic sizes and vice-versa.  We want smaller localized clusters so use a very small number.  "
      ]
    },
    {
      "cell_type": "code",
      "metadata": {
        "id": "MGqxxsTt7AGV",
        "colab": {
          "base_uri": "https://localhost:8080/"
        },
        "outputId": "67aeeaac-f3f6-4617-aa88-7fe2c77a663e"
      },
      "source": [
        "%%time\n",
        "cluster = hdbscan.HDBSCAN(min_cluster_size=3,\n",
        "                          metric='euclidean',\n",
        "                          cluster_selection_method='eom', \n",
        "                          prediction_data=True).fit(umap_embeddings)"
      ],
      "execution_count": 7,
      "outputs": [
        {
          "output_type": "stream",
          "text": [
            "CPU times: user 31.9 ms, sys: 0 ns, total: 31.9 ms\n",
            "Wall time: 34.8 ms\n"
          ],
          "name": "stdout"
        }
      ]
    },
    {
      "cell_type": "markdown",
      "metadata": {
        "id": "KYj2_bbQaaqt"
      },
      "source": [
        "## Visualize Clusters\n",
        "Visualize the resulting cluster by embedding the data into **2d-space** using **UMAP** and using matplotlib to color the clusters. Gray are outliers"
      ]
    },
    {
      "cell_type": "code",
      "metadata": {
        "id": "4OoUWNulm7Fd",
        "colab": {
          "base_uri": "https://localhost:8080/",
          "height": 514
        },
        "outputId": "ca223f80-c0e4-4658-f5b4-5aa57a7bc594"
      },
      "source": [
        "# Prepare data\n",
        "umap_data = umap.UMAP(n_neighbors=4, n_components=2, min_dist=0.0, metric='cosine').fit_transform(embeddings)\n",
        "result = pd.DataFrame(umap_data, columns=['x', 'y'])\n",
        "result['labels'] = cluster.labels_\n",
        "\n",
        "# Visualize clusters\n",
        "fig, ax = plt.subplots(figsize=(10,10))\n",
        "outliers = result.loc[result.labels == -1, :]\n",
        "clustered = result.loc[result.labels != -1, :]\n",
        "plt.scatter(outliers.x, outliers.y, color='#BDBDBD', s=10)\n",
        "plt.scatter(clustered.x, clustered.y, c=clustered.labels, s=1, cmap='gist_rainbow')\n",
        "#plt.colorbar()\n",
        "ax.axis('scaled')\n",
        "plt.title(\"Clusters Created via HDBSCAN after Dimension Reduction: Election Week\")\n",
        "import matplotlib.cm as cm\n",
        "# plt.savefig(\"result1.png\", dpi = 300)"
      ],
      "execution_count": 8,
      "outputs": [
        {
          "output_type": "display_data",
          "data": {
            "image/png": "[encoded data removed]",
            "text/plain": [
              "<Figure size 720x720 with 1 Axes>"
            ]
          },
          "metadata": {
            "tags": [],
            "needs_background": "light"
          }
        }
      ]
    },
    {
      "cell_type": "markdown",
      "metadata": {
        "id": "OPD_OftOR-pi"
      },
      "source": [
        "## Prepare results\n",
        "For easier selection, we put the results in a pandas dataframe. "
      ]
    },
    {
      "cell_type": "code",
      "metadata": {
        "id": "dp2TdT5z6iWy",
        "colab": {
          "base_uri": "https://localhost:8080/"
        },
        "outputId": "cf344750-9ea0-4520-85c0-cace090598d8"
      },
      "source": [
        "\n",
        "docs_df = pd.DataFrame(data, columns=[\"Doc\"])\n",
        "docs_df['Topic'] = cluster.labels_\n",
        "docs_df['Doc_ID'] = range(len(docs_df))\n",
        "\n",
        "print(docs_df)\n",
        "docs_per_topic = docs_df.groupby(['Topic'], as_index = False).agg({'Doc': ' '.join})\n",
        "\n",
        "#print(docs_df[\"Topic\"]==4)\n"
      ],
      "execution_count": 9,
      "outputs": [
        {
          "output_type": "stream",
          "text": [
            "                                                   Doc  Topic  Doc_ID\n",
            "0     At age 42, Mehdy Belabbas embodied the French...      5       0\n",
            "1     As coronavirus cases have shot through the ro...     -1       1\n",
            "2    The United States is embroiled in a bitter pre...     40       2\n",
            "3    Joseph R. Biden Jr. holds a small but durable ...     34       3\n",
            "4     President Trump’s campaign in the crucial bat...     23       4\n",
            "..                                                 ...    ...     ...\n",
            "692  The UK’s Covid-19 death toll has surpassed 50,...     66     692\n",
            "693  The government should condemn Donald Trump’s r...     41     693\n",
            "694  Politicians and officials leading the US respo...     52     694\n",
            "695  One of Boris Johnson’s most loyal allies, Lee ...     30     695\n",
            "696  Tens of thousands of jubilant followers have w...     29     696\n",
            "\n",
            "[697 rows x 3 columns]\n"
          ],
          "name": "stdout"
        }
      ]
    },
    {
      "cell_type": "markdown",
      "metadata": {
        "id": "EtzXjdDlSIPH"
      },
      "source": [
        "## Calculate word importance per topic\n",
        "Calculate the importance of words in a topic compared to all other topics by considering all documents in a topic to be a single document instead before applying **TF-IDF**. Then, extract the words with the highest values in each cluster as a representative of a topic.  "
      ]
    },
    {
      "cell_type": "code",
      "metadata": {
        "id": "-lZKtdwv818W"
      },
      "source": [
        "tf_idf, count = c_tf_idf(docs_per_topic.Doc.values, m = len(data))"
      ],
      "execution_count": 10,
      "outputs": []
    },
    {
      "cell_type": "code",
      "metadata": {
        "id": "xpQOamfNu5-W",
        "colab": {
          "base_uri": "https://localhost:8080/",
          "height": 347
        },
        "outputId": "442b8481-5781-469b-fc22-438f96dafbfb"
      },
      "source": [
        "# n= how many words to return \n",
        "top_n_words = extract_top_n_words_per_topic(tf_idf, count, docs_per_topic, n=20)\n",
        "topic_sizes = extract_topic_sizes(docs_df); topic_sizes.head(10)"
      ],
      "execution_count": 11,
      "outputs": [
        {
          "output_type": "execute_result",
          "data": {
            "text/html": [
              "<div>\n",
              "<style scoped>\n",
              "    .dataframe tbody tr th:only-of-type {\n",
              "        vertical-align: middle;\n",
              "    }\n",
              "\n",
              "    .dataframe tbody tr th {\n",
              "        vertical-align: top;\n",
              "    }\n",
              "\n",
              "    .dataframe thead th {\n",
              "        text-align: right;\n",
              "    }\n",
              "</style>\n",
              "<table border=\"1\" class=\"dataframe\">\n",
              "  <thead>\n",
              "    <tr style=\"text-align: right;\">\n",
              "      <th></th>\n",
              "      <th>Topic</th>\n",
              "      <th>Size</th>\n",
              "    </tr>\n",
              "  </thead>\n",
              "  <tbody>\n",
              "    <tr>\n",
              "      <th>0</th>\n",
              "      <td>-1</td>\n",
              "      <td>76</td>\n",
              "    </tr>\n",
              "    <tr>\n",
              "      <th>6</th>\n",
              "      <td>5</td>\n",
              "      <td>16</td>\n",
              "    </tr>\n",
              "    <tr>\n",
              "      <th>20</th>\n",
              "      <td>19</td>\n",
              "      <td>16</td>\n",
              "    </tr>\n",
              "    <tr>\n",
              "      <th>31</th>\n",
              "      <td>30</td>\n",
              "      <td>15</td>\n",
              "    </tr>\n",
              "    <tr>\n",
              "      <th>16</th>\n",
              "      <td>15</td>\n",
              "      <td>14</td>\n",
              "    </tr>\n",
              "    <tr>\n",
              "      <th>34</th>\n",
              "      <td>33</td>\n",
              "      <td>14</td>\n",
              "    </tr>\n",
              "    <tr>\n",
              "      <th>46</th>\n",
              "      <td>45</td>\n",
              "      <td>14</td>\n",
              "    </tr>\n",
              "    <tr>\n",
              "      <th>47</th>\n",
              "      <td>46</td>\n",
              "      <td>14</td>\n",
              "    </tr>\n",
              "    <tr>\n",
              "      <th>41</th>\n",
              "      <td>40</td>\n",
              "      <td>14</td>\n",
              "    </tr>\n",
              "    <tr>\n",
              "      <th>42</th>\n",
              "      <td>41</td>\n",
              "      <td>13</td>\n",
              "    </tr>\n",
              "  </tbody>\n",
              "</table>\n",
              "</div>"
            ],
            "text/plain": [
              "    Topic  Size\n",
              "0      -1    76\n",
              "6       5    16\n",
              "20     19    16\n",
              "31     30    15\n",
              "16     15    14\n",
              "34     33    14\n",
              "46     45    14\n",
              "47     46    14\n",
              "41     40    14\n",
              "42     41    13"
            ]
          },
          "metadata": {
            "tags": []
          },
          "execution_count": 11
        }
      ]
    },
    {
      "cell_type": "code",
      "metadata": {
        "id": "-nn6Tz0BQcn2",
        "colab": {
          "base_uri": "https://localhost:8080/"
        },
        "outputId": "35331dc9-574c-4ed4-8e46-2c95d3819b7e"
      },
      "source": [
        "#print length of orignal topics returned \n",
        "print(len(topic_sizes))"
      ],
      "execution_count": 12,
      "outputs": [
        {
          "output_type": "stream",
          "text": [
            "79\n"
          ],
          "name": "stdout"
        }
      ]
    },
    {
      "cell_type": "code",
      "metadata": {
        "id": "uVA0zHMAsH-J",
        "colab": {
          "base_uri": "https://localhost:8080/"
        },
        "outputId": "33f5a47e-2b6d-420b-dcd4-41c482495f49"
      },
      "source": [
        "# print top words assocated with clusters \n",
        "print(top_n_words)"
      ],
      "execution_count": 13,
      "outputs": [
        {
          "output_type": "stream",
          "text": [
            "{-1: [('rabin', 0.005886947907168597), ('dogs', 0.0036166213854303257), ('peace', 0.0029878123678266093), ('ehrc', 0.0027341945446862285), ('cummings', 0.0027079960372975546), ('law', 0.002662188024314247), ('masks', 0.002505496824511076), ('interference', 0.0024700503069822427), ('elephants', 0.0024447311259287565), ('security', 0.0023686639128269126), ('french', 0.0023463679465821263), ('macron', 0.0023370808633802823), ('durham', 0.002286592542786246), ('second', 0.0022548897869072433), ('things', 0.0022328683320396183), ('face', 0.0022223086073936927), ('prime', 0.002202643605057623), ('groups', 0.0021845494675074967), ('duong', 0.0021781457293623325), ('local', 0.0021584677281711252)], 0: [('storms', 0.05916656526145571), ('hurricane', 0.05916656526145571), ('eta', 0.051272908281193734), ('nicaragua', 0.04568186047954103), ('storm', 0.04534245679815455), ('flooding', 0.04187503877291261), ('honduras', 0.03977694768290982), ('hurricanes', 0.030183811463857988), ('puerto', 0.029307785457886423), ('winds', 0.028535075758172566), ('cabezas', 0.026738665088280048), ('landslides', 0.023136586215212855), ('rain', 0.020934132469918872), ('named', 0.0199060177143385), ('atlantic', 0.019694074824950895), ('roofs', 0.019345795874941455), ('costa', 0.017825776725520034), ('caribbean', 0.01724789226506171), ('season', 0.015985432028263233), ('honduran', 0.015318199968394793)], 1: [('tigray', 0.06952343818336866), ('abiy', 0.04140793120513503), ('ethiopia', 0.0354151668007027), ('military', 0.02848820102287894), ('region', 0.025826218949940145), ('war', 0.021352591276714104), ('tplf', 0.021273066043241372), ('ethiopian', 0.02093425757756392), ('azerbaijan', 0.020596112095286938), ('federal', 0.020413613976047053), ('tigrayan', 0.01728704224150897), ('armenia', 0.016244243784911305), ('conflict', 0.016179428656377552), ('troops', 0.01566042320351925), ('armenian', 0.015157858277737421), ('azerbaijani', 0.014694486602161974), ('fighting', 0.014561485790739799), ('africa', 0.013376741868938839), ('russian', 0.013319691429718417), ('horn', 0.013295666277025857)], 2: [('sacoolas', 0.01761371317966314), ('immunity', 0.015760906776226543), ('boat', 0.012560007255980147), ('jane', 0.011202989912232592), ('unhcr', 0.010931617045116492), ('bame', 0.010931617045116492), ('family', 0.010589800337298273), ('fcdo', 0.010369004131338209), ('refugee', 0.010064978959807508), ('diagnosis', 0.010064978959807508), ('eleanor', 0.00980261617320352), ('parasailing', 0.009185497633353128), ('mental', 0.008894384342698848), ('psychiatric', 0.008887717826861322), ('claire', 0.008887717826861322), ('refugees', 0.00880685658983157), ('depression', 0.008651367182101802), ('senegal', 0.008402242434174445), ('conditions', 0.00811794500974042), ('vega', 0.007948080325702548)], 3: [('corbyn', 0.022629716251659503), ('belarusian', 0.019277410314407308), ('nec', 0.0182244168998225), ('walk', 0.017573117480996474), ('golf', 0.01637316235116731), ('jenrick', 0.01637316235116731), ('starmer', 0.016031258350882465), ('tennis', 0.014182537573228083), ('problem', 0.013224306835497114), ('antisemitism', 0.012985249751366553), ('report', 0.011992670098893293), ('household', 0.01197446629879855), ('diplomats', 0.011619796040126825), ('equalities', 0.011589078597659647), ('person', 0.011434761402537465), ('minchin', 0.011413770507176846), ('exaggerated', 0.0107227240493249), ('friend', 0.010546176278437019), ('gove', 0.010546176278437019), ('outdoor', 0.010542448850616599)], 4: [('tents', 0.06391163899909232), ('palestinian', 0.051848079041698705), ('livestock', 0.049471777007582915), ('israel', 0.04527865027436261), ('sheds', 0.043936880016874305), ('israeli', 0.04369554495640046), ('palestinians', 0.04281544143332244), ('jordan', 0.03507710349535729), ('valley', 0.03345879143517866), ('occupied', 0.03211158107499183), ('bank', 0.03156846772168064), ('tselem', 0.031471173280648274), ('solar', 0.031471173280648274), ('toilets', 0.031471173280648274), ('demolitions', 0.031471173280648274), ('panels', 0.031471173280648274), ('helle', 0.031471173280648274), ('pens', 0.031471173280648274), ('destroyed', 0.029948161828260548), ('largest', 0.028996105473660917)], 5: [('mccarrick', 0.017763119194277022), ('aouissaoui', 0.01717141190782957), ('sharma', 0.01665101255009715), ('kabuga', 0.01665101255009715), ('erekat', 0.011035215107917202), ('pope', 0.009933657195918566), ('tested', 0.00892492155609617), ('church', 0.008680284367806176), ('seals', 0.008647906465904076), ('confirmed', 0.008098320267736818), ('vatican', 0.007566707856087565), ('brammertz', 0.007291402950404455), ('marcel', 0.007291402950404455), ('isolate', 0.007104260207478917), ('positive', 0.007061059998668733), ('silva', 0.006952656028360088), ('basilica', 0.006838181766231293), ('francis', 0.006835764887517758), ('individual', 0.006772554560269662), ('lampedusa', 0.006575103229734)], 6: [('gilbert', 0.025993461987187386), ('moore', 0.02489760407372346), ('prison', 0.024214463354447307), ('ono', 0.02384958412967294), ('chin', 0.023466490152949812), ('corruption', 0.021830484111235633), ('arrest', 0.019358137440254705), ('zimbabwe', 0.018024404232852956), ('carlos', 0.016976701774327772), ('juan', 0.015726050763424117), ('bolsonaro', 0.015214243341215393), ('qarchak', 0.01411483055001797), ('kylie', 0.01411483055001797), ('ramaphosa', 0.01411483055001797), ('magashule', 0.01411483055001797), ('anc', 0.012719639349106034), ('evin', 0.012719639349106034), ('prosecutors', 0.012283446531050502), ('court', 0.011196664957330479), ('yuen', 0.010902548013519458)], 7: [('karabakh', 0.03874369879991131), ('turkey', 0.035299986866935903), ('ceasefire', 0.03451212180540834), ('nagorno', 0.029566987604172253), ('cdc', 0.029040155161954635), ('armenia', 0.025871114153650725), ('erdoğan', 0.023768669466073842), ('peacekeeping', 0.023562084688105656), ('masks', 0.02186834545829598), ('ankara', 0.021168624491577817), ('turkish', 0.021125782302783024), ('droplets', 0.020606829649111456), ('pashinyan', 0.020606829649111456), ('azerbaijan', 0.020448026191322008), ('thanksgiving', 0.019938787699697553), ('mask', 0.017958369080231393), ('artsakh', 0.01770803831666007), ('celebrate', 0.017602941542676158), ('wearing', 0.01699865511182794), ('cloth', 0.016772993660803794)], 8: [('protests', 0.025503327132335166), ('protest', 0.023589880240634062), ('shot', 0.01791953518285411), ('black', 0.01492919289582614), ('violent', 0.014363331346658417), ('lives', 0.01328102652001409), ('shooting', 0.01310651876326475), ('demonstrations', 0.012611025799170908), ('vegas', 0.012012697115450447), ('acled', 0.012012697115450447), ('matter', 0.011515691116781118), ('las', 0.011285921353467001), ('killed', 0.010627788598754366), ('sánchez', 0.010010580929542039), ('regulations', 0.009799064023513335), ('protesters', 0.009230822702856805), ('officers', 0.009221375090824976), ('police', 0.008912411608124829), ('protester', 0.008691353346763173), ('cicero', 0.008691353346763173)], 9: [('amazon', 0.024295107328002385), ('uzbekov', 0.023500555469360345), ('russian', 0.01927397209468298), ('bank', 0.014630568927489863), ('marugov', 0.013669289862476256), ('nice', 0.013309250744014348), ('man', 0.012758721899204887), ('murder', 0.012323603026256007), ('campaign', 0.011710109802946393), ('suspect', 0.01148087361263192), ('vestager', 0.011429659024674714), ('shchukin', 0.011429659024674714), ('lazarevich', 0.011429659024674714), ('caricatures', 0.011023909339144483), ('robbers', 0.010935431889981004), ('alexander', 0.010818737766182905), ('french', 0.010025398462713336), ('investigators', 0.009567394677193268), ('issaoui', 0.009050121465269791), ('bellingham', 0.009050121465269791)], 10: [('sinu', 0.028109887619187014), ('fiji', 0.025259628942496455), ('chung', 0.022575575259987737), ('korean', 0.022138034657775744), ('officers', 0.02147133905951894), ('police', 0.01886539890311628), ('alleged', 0.01814040561378352), ('allegedly', 0.016156392074093657), ('force', 0.01571016810895826), ('south', 0.014009790013869544), ('charged', 0.013071341841089809), ('alotau', 0.011904246942654286), ('dmz', 0.011904246942654286), ('milne', 0.011904246942654286), ('barkie', 0.011904246942654286), ('kuriako', 0.011904246942654286), ('korea', 0.011803775760662194), ('kong', 0.011800698335392155), ('hong', 0.011716042562989864), ('consulate', 0.011712453174661255)], 11: [('french', 0.026470569625234332), ('nice', 0.02108465512604378), ('france', 0.020558576545694596), ('attack', 0.017097814085847138), ('basilica', 0.014719419523120674), ('macron', 0.014442597864397454), ('muhammad', 0.013271375157162894), ('prophet', 0.013271375157162894), ('terrorist', 0.012938426474902032), ('muslim', 0.012565412890120753), ('knife', 0.012191099136824273), ('man', 0.011977778687440687), ('terror', 0.010794240983621828), ('islamist', 0.010684499261660305), ('victims', 0.0099719351430653), ('saudi', 0.009954983185749373), ('hebdo', 0.009891788769970801), ('attacks', 0.00976764970114439), ('charlie', 0.009652177460807454), ('entered', 0.009627246498714794)], 12: [('asylum', 0.023244413963643504), ('racing', 0.02146693543658187), ('horses', 0.019577969736924366), ('seekers', 0.01952800899310071), ('nsw', 0.016415352642088925), ('roccafiorita', 0.013054288191528514), ('racehorses', 0.013054288191528514), ('meddick', 0.012140161092009376), ('horse', 0.011867534719571377), ('app', 0.011756820313173072), ('slaughter', 0.011618646341454585), ('thoroughbreds', 0.011197382008243346), ('eviction', 0.011197382008243346), ('zizzi', 0.011197382008243346), ('villages', 0.00956011115570331), ('users', 0.00956011115570331), ('sweeney', 0.009212278842087092), ('thomson', 0.009212278842087092), ('sent', 0.00877963854987271), ('kankool', 0.008160799670822314)], 13: [('vizcarra', 0.11023896929263581), ('peru', 0.07170195213047081), ('impeachment', 0.04940286692501266), ('congress', 0.0490155414093603), ('martín', 0.042453297055265564), ('peruvians', 0.042453297055265564), ('merino', 0.042453297055265564), ('presidential', 0.032068155413698764), ('removal', 0.03044982920372934), ('peruvian', 0.030408510286756254), ('lima', 0.02830219803684371), ('coup', 0.025931763006953167), ('tension', 0.02390065071015694), ('chaotic', 0.023206981138081496), ('pedro', 0.023206981138081496), ('clashes', 0.02259512121259379), ('recession', 0.02110066888816895), ('amid', 0.018729745592485646), ('devastating', 0.0187134879563329), ('president', 0.017786560381314053)], 14: [('armstrong', 0.019326959552670667), ('medieval', 0.016274476754392305), ('plague', 0.014665813675745208), ('black', 0.011100442975963624), ('nightingales', 0.009399801547614998), ('society', 0.009121071558928866), ('death', 0.008899673870645084), ('hungry', 0.00838046495756869), ('florence', 0.00838046495756869), ('eu', 0.008194521038545458), ('resources', 0.008173326090904673), ('rashford', 0.008137238377196153), ('nhs', 0.007551909490912622), ('readiness', 0.007442859456410402), ('ifg', 0.007442859456410402), ('kyriakides', 0.007442859456410402), ('dolphin', 0.007442859456410402), ('field', 0.007162085676453481), ('patients', 0.007075835430965112), ('skill', 0.0070498511607112475)], 15: [('antisemitism', 0.02227875556398287), ('corbyn', 0.021750652687223027), ('ehrc', 0.015648327280168736), ('jeremy', 0.013079422200821757), ('report', 0.011980223007949618), ('labour', 0.011922980586893958), ('starmer', 0.011425064013833955), ('complaints', 0.011397045213477168), ('harassment', 0.010665497347661977), ('suspended', 0.009320224925272581), ('jewish', 0.009313202685027572), ('keir', 0.008920762750432002), ('priests', 0.008643503829120252), ('antisemitic', 0.00852132110228005), ('leadership', 0.008433144304016373), ('problem', 0.007912028450031746), ('discrimination', 0.007909850473859354), ('suspension', 0.007871261250381179), ('responsible', 0.007808023021534006), ('bailey', 0.007696634962927325)], 16: [('pis', 0.043889783549894354), ('poland', 0.04121204375698014), ('protesters', 0.03256566238752958), ('kaczyński', 0.0298667555953862), ('polish', 0.029278206274257257), ('warsaw', 0.029278206274257257), ('protests', 0.02530514786902407), ('women', 0.022044727417240808), ('abortion', 0.018284823909102174), ('terminations', 0.015892466382127234), ('instances', 0.015137152494067151), ('abortions', 0.01453730225074968), ('anger', 0.01368164917713118), ('ruling', 0.013491020289048222), ('choice', 0.013491020289048222), ('churches', 0.013189928633980117), ('poles', 0.012713973105701788), ('pro', 0.012055785080520597), ('streets', 0.011882463622123241), ('church', 0.011649494425315958)], 17: [('cases', 0.017850843889564698), ('highest', 0.01278052995796613), ('paso', 0.012686835489681081), ('el', 0.012275547656630765), ('johns', 0.012083874136138983), ('hopkins', 0.011889771825093836), ('record', 0.011455881092254682), ('texas', 0.010623895553092282), ('illinois', 0.010149468391744864), ('surge', 0.009994178654732353), ('jordan', 0.009284014585750917), ('daily', 0.009276939191714717), ('total', 0.009241232768779691), ('counties', 0.00905912554485908), ('fauci', 0.008993967318496764), ('governor', 0.008879161114974181), ('matalka', 0.008721728583925956), ('moody', 0.008721728583925956), ('minnesota', 0.00826119164830411), ('order', 0.00820410927417824)], 18: [('austrian', 0.046427925709605154), ('vienna', 0.032816631058726536), ('austria', 0.026171886265315115), ('deradicalisation', 0.024279042766742868), ('attacker', 0.023006727269444204), ('attack', 0.021451252074553326), ('nehammer', 0.02123765261491992), ('injured', 0.01979729821157294), ('gunman', 0.019577969736924366), ('terror', 0.018760403019530202), ('synagogue', 0.017882306877290283), ('kurz', 0.017882306877290283), ('terrorist', 0.016490466538198117), ('random', 0.014767161309107045), ('seitenstettengasse', 0.013873738723853068), ('repulsive', 0.01268984422847612), ('capital', 0.01264824839991531), ('programme', 0.012577620085164495), ('attacks', 0.012568907098713394), ('condition', 0.012478963123390217)], 19: [('kurdish', 0.017420606663290504), ('icc', 0.014125533988131607), ('attack', 0.01392789789572513), ('vienna', 0.01348132982300444), ('isis', 0.013217090405396599), ('austrian', 0.011229099981498286), ('minassian', 0.010958430977966635), ('fejzulai', 0.010902681979406522), ('austria', 0.010879611899601687), ('attacks', 0.008359799815720553), ('barassi', 0.008315550434272264), ('islamic', 0.007733329789060394), ('attacker', 0.007651088232131199), ('crimes', 0.00764218947964146), ('terrorist', 0.0075405670640714875), ('haftar', 0.007366422837385699), ('libya', 0.007341376536743523), ('ammunition', 0.007341376536743523), ('sentence', 0.007234212182880661), ('shot', 0.00714259809928506)], 20: [('randox', 0.03299097172204813), ('cannabis', 0.027033905713552586), ('paterson', 0.021939073635755372), ('png', 0.019554750415219087), ('awarded', 0.015712029201995405), ('bethell', 0.015154534985655076), ('contract', 0.015130998197474755), ('marape', 0.01459492308634889), ('treatment', 0.01356707563826771), ('ehrc', 0.012911369335690466), ('biomed', 0.01267155567744784), ('lobbyists', 0.01267155567744784), ('kits', 0.011994254392711066), ('submission', 0.011675938469079113), ('complaints', 0.011501990381188742), ('company', 0.011187827810560682), ('research', 0.01072715593796924), ('inquiry', 0.010526357114720396), ('drugs', 0.010214578225574963), ('niugini', 0.010033467996486951)], 21: [('love', 0.02058658574162519), ('hotel', 0.018525928516857325), ('hotels', 0.01799886269975659), ('protesters', 0.016064671775479707), ('taiwan', 0.014751197556696717), ('couples', 0.013558342419046117), ('king', 0.01227365147741705), ('sex', 0.011840649756443505), ('reform', 0.011532340766257546), ('demonstrators', 0.010656584780799156), ('monarchy', 0.009902865549876714), ('gay', 0.009595954064289366), ('tang', 0.00958182977099315), ('lgbt', 0.008752664012897808), ('cannon', 0.008252387958230595), ('tokyo', 0.007753113275044582), ('royal', 0.007725243688100782), ('japan', 0.007429599166546707), ('carla', 0.007164860881139373), ('accordion', 0.007164860881139373)], 22: [('fauci', 0.022472926339817244), ('langstone', 0.020641964198562533), ('bird', 0.02021238948247547), ('birds', 0.019732133236434253), ('appreciate', 0.017398243333697216), ('gannets', 0.016344519366277243), ('hoiho', 0.0154814731489219), ('keown', 0.0154814731489219), ('florida', 0.015354940838633256), ('capita', 0.012185636282917571), ('seabirds', 0.011707276460401157), ('idaho', 0.011707276460401157), ('gannet', 0.011707276460401157), ('miami', 0.011707276460401157), ('souza', 0.011707276460401157), ('twitter', 0.011636797004136553), ('infectious', 0.011236463169908622), ('trump', 0.011124756627660529), ('luke', 0.010896346244184828), ('responded', 0.010653159411619598)], 23: [('mail', 0.09094449851857211), ('vault', 0.07887693265976535), ('orchestrate', 0.07887693265976535), ('stave', 0.07887693265976535), ('pennsylvanians', 0.07887693265976535), ('intimidating', 0.07887693265976535), ('procedural', 0.07887693265976535), ('maneuvers', 0.07887693265976535), ('surrogates', 0.07887693265976535), ('rooting', 0.07052576180964552), ('blitz', 0.07052576180964552), ('intensifying', 0.07052576180964552), ('narrowing', 0.07052576180964552), ('ditch', 0.0656406400252098), ('absentee', 0.0656406400252098), ('votes', 0.06447191324946104), ('processing', 0.062174590959525704), ('pronged', 0.059486114437667756), ('bitterly', 0.05728946917508999), ('pursuing', 0.05543223206873748)], 24: [('putin', 0.029948287551383432), ('wto', 0.019432140730116027), ('insurance', 0.019432140730116027), ('japan', 0.01793020074361407), ('lifetime', 0.017129096283340323), ('fertility', 0.017129096283340323), ('birth', 0.01694463128316706), ('referendum', 0.016755075431196753), ('votes', 0.01593795621654584), ('ivf', 0.015370040356338446), ('iweala', 0.015370040356338446), ('okonjo', 0.015370040356338446), ('election', 0.015142304778668096), ('treatments', 0.015122407896398076), ('snp', 0.014162400421541233), ('suga', 0.013305566251915675), ('couples', 0.013220599915139736), ('treatment', 0.012342200045460593), ('infertility', 0.012170155894473003), ('yeltsin', 0.012170155894473003)], 25: [('corbyn', 0.034336826962645166), ('jeremy', 0.02633358618121361), ('antisemitism', 0.02277261791177087), ('starmer', 0.019168972911208827), ('yesterday', 0.016991260284697662), ('problem', 0.016866806847857373), ('jewish', 0.016283615748307362), ('report', 0.01588423331119025), ('suspension', 0.015847682971709333), ('projection', 0.014175685764083094), ('overstated', 0.014037126144437277), ('labour', 0.0129348692442092), ('ehrc', 0.012772587992858304), ('reasons', 0.012596556679941744), ('complaints', 0.012516193941854686), ('dramatically', 0.011697605120364399), ('leader', 0.011529461799603395), ('factional', 0.011340548611266476), ('upper', 0.011085878792150044), ('wrong', 0.010560169961252013)], 26: [('australia', 0.04080702164796775), ('australian', 0.03283271669587378), ('china', 0.02487454239367635), ('qr', 0.019708886251882524), ('app', 0.014991553975022392), ('raby', 0.01481536326190586), ('chinese', 0.01464488901202447), ('check', 0.014161317386775844), ('exporters', 0.01400146581030388), ('code', 0.01383382359470721), ('nsw', 0.013770934131357276), ('trade', 0.013635315186125343), ('mrna', 0.012774211451807054), ('birmingham', 0.010949381251045847), ('beijing', 0.010246015048548896), ('wine', 0.0100023473786563), ('morrison', 0.009682276117444346), ('market', 0.009374217577885572), ('businesses', 0.009355616522863977), ('disruptions', 0.00867177983258201)], 27: [('taiwan', 0.019522572568862816), ('library', 0.01608096952698509), ('hokkaido', 0.012286888737809996), ('miceli', 0.012286888737809996), ('governor', 0.010032457838607348), ('historical', 0.009365979400138467), ('manuscripts', 0.009365979400138467), ('japan', 0.009218206373307952), ('infections', 0.009103212453426584), ('cyber', 0.00850533591442967), ('ai', 0.00850533591442967), ('campaign', 0.008407258320064078), ('100', 0.008342388589488702), ('cases', 0.00777964684861494), ('rise', 0.007765467552288837), ('taiwanese', 0.007311283923800996), ('fauci', 0.007258697138183865), ('collections', 0.007038983361876504), ('strait', 0.007038983361876504), ('digitisation', 0.007038983361876504)], 28: [('nigeria', 0.035674918400738345), ('amlo', 0.0345217787576276), ('trump', 0.031416357597024186), ('mexican', 0.02660329253427185), ('leal', 0.024361669313113822), ('buhari', 0.018673780250856368), ('nixon', 0.017984213092029005), ('nigerian', 0.01645068393882112), ('bolsonaro', 0.015690518385878136), ('odoakang', 0.01561419379618951), ('abiodun', 0.01561419379618951), ('brazil', 0.013843923673044071), ('says', 0.013792600778219729), ('mexico', 0.013246077810276478), ('lópez', 0.01236347909703271), ('obrador', 0.01236347909703271), ('lagos', 0.01236347909703271), ('washington', 0.010535496577409082), ('president', 0.009888897034996845), ('guy', 0.009415030570262073)], 29: [('morales', 0.05938774475936431), ('bolivia', 0.05617859491391981), ('arce', 0.03579690662506586), ('evo', 0.030437070068715665), ('mas', 0.024567815086527358), ('argentina', 0.02252049716265008), ('chimoré', 0.016232926830613142), ('latin', 0.014974497088893824), ('shultz', 0.014380118774795772), ('homecoming', 0.014380118774795772), ('bolivian', 0.014380118774795772), ('leftwing', 0.014122028117085083), ('indigenous', 0.013543924630850907), ('coca', 0.013510112507300467), ('power', 0.013223483905332987), ('exile', 0.013153913810758984), ('return', 0.012528595510535053), ('chapare', 0.012442912042153285), ('triumphant', 0.012442912042153285), ('luis', 0.01198343231232981)], 30: [('cain', 0.049972420711826365), ('elect', 0.018244645249816463), ('biden', 0.018030234979382435), ('downing', 0.017527130784143963), ('democrats', 0.017031014359083593), ('message', 0.016458658769768285), ('adviser', 0.014425610021061427), ('street', 0.014064632022522231), ('johnson', 0.013221337626511993), ('cummings', 0.012280094069389643), ('joe', 0.010645753393823345), ('winning', 0.009939759735003403), ('kamala', 0.009849872483754466), ('communications', 0.009772648080064067), ('briefing', 0.009615670809695257), ('congratulating', 0.009530554659151135), ('harris', 0.009467668702393474), ('joseph', 0.009339955712303892), ('jr', 0.009339955712303892), ('hidden', 0.00900996547576241)], 31: [('northwest', 0.09829506761220255), ('detroit', 0.06235033724533833), ('raphael', 0.06235033724533833), ('pulpit', 0.06235033724533833), ('goodyear', 0.06235033724533833), ('hangar', 0.06235033724533833), ('oakland', 0.06235033724533833), ('warnock', 0.06235033724533833), ('harbinger', 0.06235033724533833), ('jeremiah', 0.06235033724533833), ('ariz', 0.06235033724533833), ('bedlam', 0.06235033724533833), ('waterford', 0.06235033724533833), ('humor', 0.06235033724533833), ('preacher', 0.06235033724533833), ('searing', 0.06235033724533833), ('rally', 0.061922829423927524), ('stump', 0.0557489355257198), ('barnstormed', 0.0557489355257198), ('rev', 0.0557489355257198)], 32: [('bolsonaro', 0.026901162108908788), ('kong', 0.023220263781111205), ('hong', 0.023053686404933445), ('szijjártó', 0.019923293051113695), ('chinese', 0.019881980162655112), ('beijing', 0.019616730394393544), ('cambodia', 0.018717921239164895), ('lawmakers', 0.018449285488579048), ('coronavac', 0.017239341823765443), ('opposition', 0.014451456677949143), ('pro', 0.014393818420158671), ('legislative', 0.01390305884531769), ('doria', 0.013791473459012356), ('democracy', 0.013001551427845906), ('brazil', 0.012780493781958282), ('brazilian', 0.011619796040126825), ('volunteer', 0.011589078597659647), ('dino', 0.011413770507176846), ('hun', 0.011413770507176846), ('disqualified', 0.011413770507176846)], 33: [('sunak', 0.025908484636202118), ('coup', 0.017025905004565214), ('atkin', 0.015405764463132129), ('darbyshire', 0.014064837053382724), ('sassoon', 0.014064837053382724), ('empire', 0.01384083145624061), ('meals', 0.012950697707902099), ('film', 0.012404709467663875), ('53', 0.011691686947514546), ('lapping', 0.01122792430113924), ('amirani', 0.01122792430113924), ('sale', 0.01023022607907523), ('cafe', 0.010021724481148709), ('murch', 0.00971536304275172), ('filmed', 0.008558758035073406), ('carol', 0.008558758035073406), ('story', 0.008487739691352058), ('chancellor', 0.00829548804499253), ('arts', 0.008163892439909786), ('quimet', 0.008123559306793598)], 34: [('voters', 0.050367586911173295), ('opinium', 0.03905500445944383), ('margin', 0.03699276738093644), ('favoured', 0.03408620746618257), ('lead', 0.03357839127411553), ('poll', 0.032165993002915165), ('game', 0.031179647551428703), ('62', 0.02974114794238103), ('64', 0.02974114794238103), ('football', 0.02854362762221496), ('liberal', 0.028012387678460683), ('tories', 0.027055173394413923), ('points', 0.027055173394413923), ('biden', 0.026981601274968504), ('461', 0.023465180683729478), ('baldwin', 0.023465180683729478), ('swig', 0.023465180683729478), ('clouds', 0.023465180683729478), ('saloon', 0.023465180683729478), ('gov', 0.023465180683729478)], 35: [('suu', 0.05408236678907835), ('aung', 0.05294814027338485), ('kyi', 0.047421232600742776), ('san', 0.04149242532630512), ('myanmar', 0.036384805224816255), ('yangon', 0.02882955893653985), ('nld', 0.026564390734818262), ('voters', 0.02616863454044199), ('cast', 0.02574110210355462), ('rohingya', 0.025703213752543076), ('voting', 0.022072748397053362), ('ballot', 0.021084897701233198), ('rakhine', 0.01838863127868314), ('wuhan', 0.01838863127868314), ('downtown', 0.017709593823212175), ('polling', 0.016199481688731115), ('voter', 0.016199481688731115), ('army', 0.016107395333133392), ('polls', 0.015828007508693946), ('history', 0.015693384315514838)], 36: [('guam', 0.09183758113465171), ('territories', 0.035016196215280376), ('vote', 0.034282021484987574), ('straw', 0.034050672402251195), ('island', 0.030870016464437496), ('guamanians', 0.02818020580392628), ('azios', 0.02818020580392628), ('congressional', 0.02459496176654725), ('presidential', 0.021286620403920726), ('voting', 0.020436320498651128), ('hofman', 0.020184959414484754), ('winner', 0.01985552694650852), ('american', 0.019539402372801492), ('ballot', 0.019521707009590047), ('congress', 0.019521707009590047), ('delegate', 0.018786803869284188), ('agenda', 0.01811515330881259), ('virgin', 0.017794796722898736), ('anomaly', 0.017794796722898736), ('elections', 0.017640009408249998)], 37: [('commons', 0.014568218481792256), ('englandâ', 0.013202358131080163), ('mordaunt', 0.013202358131080163), ('tiering', 0.013202358131080163), ('conservative', 0.01281057976925808), ('backbencher', 0.011522679987558486), ('soldiers', 0.01131587390318934), ('december', 0.01126507127057163), ('ministers', 0.011035265690130483), ('leadership', 0.010869403800757776), ('amendments', 0.010825550571277919), ('vote', 0.009883719379293051), ('jenkin', 0.009456604572214183), ('mitchell', 0.009456604572214183), ('abstention', 0.009456604572214183), ('css', 0.009456604572214183), ('weâ', 0.009456604572214183), ('mps', 0.009198409850183192), ('lockdowns', 0.009168494716253911), ('clauses', 0.008998963004937742)], 38: [('mink', 0.05927825423483147), ('denmark', 0.03508900500064433), ('mutations', 0.03363934292202754), ('humans', 0.030119498692945407), ('strain', 0.02807120400051546), ('farms', 0.027331966124147383), ('danish', 0.02313634151062916), ('mutant', 0.02115971045153671), ('minors', 0.02060182751177882), ('animals', 0.019671210034095908), ('guatemala', 0.019239212603777492), ('unaccompanied', 0.01906816271873089), ('protein', 0.017589447326012114), ('wolf', 0.01689174401965353), ('mutated', 0.01689174401965353), ('spike', 0.01636823188822834), ('cull', 0.01634413947319791), ('netherlands', 0.014717212528387051), ('jackal', 0.014616185607834292), ('transmission', 0.012772707206870171)], 39: [('biya', 0.04990673307134866), ('ouattara', 0.04758762656601216), ('cameroon', 0.03807010125280973), ('whip', 0.020543282611938617), ('expelled', 0.019377164038736853), ('opposition', 0.017102880961010886), ('macdonald', 0.017059474544266557), ('guessan', 0.017059474544266557), ('ivorian', 0.017059474544266557), ('gbagbo', 0.017059474544266557), ('separatist', 0.016321809911822888), ('violence', 0.016009112648589063), ('electoral', 0.015766064036896118), ('ivory', 0.01476807890605186), ('africa', 0.013929499797407385), ('foot', 0.01371533929904844), ('1931', 0.013507867244857226), ('rebel', 0.013163094391071032), ('ploy', 0.012794605908199919), ('english', 0.012244902778117413)], 40: [('jr', 0.046675606833485546), ('joseph', 0.046675606833485546), ('postal', 0.03739486267855532), ('battleground', 0.030064421289580822), ('frustration', 0.029433904065018286), ('election', 0.027145844245663384), ('ballots', 0.026909942512350057), ('trump', 0.02687139282043606), ('presidential', 0.026839651813639176), ('count', 0.02471950141182155), ('breaking', 0.0244110984087868), ('battle', 0.024115286854292196), ('confidence', 0.02383107878796407), ('race', 0.02383107878796407), ('sweeps', 0.023720236995509146), ('dejoy', 0.023720236995509146), ('meriting', 0.023720236995509146), ('pitched', 0.023720236995509146), ('bravado', 0.023720236995509146), ('exuding', 0.023720236995509146)], 41: [('bassil', 0.021962363579202927), ('hezbollah', 0.018382003301202262), ('merkel', 0.014296716329949213), ('democratic', 0.012477592567889837), ('cramer', 0.012254668867468175), ('sanctions', 0.01211005978478679), ('lebanese', 0.011880046916088603), ('trump', 0.011420988517328744), ('voters', 0.011270898899757256), ('hungary', 0.009402618097077153), ('states', 0.00931291162067529), ('lebanon', 0.00915308169688637), ('wisconsin', 0.00842700426621054), ('member', 0.00823943724955359), ('host', 0.008169779244978784), ('markel', 0.00786550498858385), ('governments', 0.007848346528213942), ('nurseries', 0.0075220944776617235), ('mep', 0.007450179571184745), ('rural', 0.007389288180285494)], 42: [('church', 0.03621776515247166), ('pakistan', 0.03169511867153633), ('worship', 0.025019339072038), ('nichols', 0.024692507533675447), ('gilgit', 0.019369642504116148), ('archbishop', 0.01837492363535036), ('baltistan', 0.01768369666137828), ('faith', 0.01660220501842379), ('mosques', 0.016537431271815322), ('abuse', 0.015092913653112534), ('communal', 0.015001773490209402), ('india', 0.014801768180460712), ('khan', 0.01469993890828029), ('cardinal', 0.013791614237057352), ('catholic', 0.013450679849232688), ('kashmir', 0.011764042408541486), ('bishops', 0.010760912502286748), ('hill', 0.010542463544403363), ('cummings', 0.01042953945703069), ('safeguarding', 0.01021373785183698)], 43: [('women', 0.03876071954890372), ('qatar', 0.03408079007580258), ('doha', 0.03154370894411016), ('black', 0.028216138017790895), ('ymca', 0.02417897893401775), ('school', 0.021246639328921204), ('airport', 0.021169518696928992), ('examinations', 0.020217398823273783), ('qatari', 0.020217398823273783), ('abortion', 0.019136768272014035), ('young', 0.018538933012762004), ('hair', 0.018482843724391494), ('poland', 0.017252894210281877), ('kacpura', 0.016008344139350872), ('baby', 0.015599749474236972), ('foetal', 0.015163049117455337), ('prejudice', 0.015163049117455337), ('infant', 0.014507387360410646), ('ruling', 0.01411960707458804), ('search', 0.014113012464619329)], 44: [('cyprus', 0.013468393936667808), ('visits', 0.011053535775874342), ('remittances', 0.010341201739686324), ('visitors', 0.009236302937322622), ('visiting', 0.008978929291111873), ('island', 0.008925528190116523), ('macfarlane', 0.00890796384662151), ('cuban', 0.00890796384662151), ('turkey', 0.00870118783244423), ('greek', 0.008081036362000686), ('kotecha', 0.008027449359904406), ('trish', 0.008027449359904406), ('naples', 0.007654506898620765), ('cuba', 0.007588964564798137), ('hodges', 0.007111205296409475), ('varosha', 0.007111205296409475), ('nspcc', 0.007111205296409475), ('cypriot', 0.007111205296409475), ('husband', 0.006983575220412962), ('graham', 0.006983575220412962)], 45: [('mahuta', 0.017453113264310198), ('moko', 0.010840901633565611), ('samoa', 0.009665036334240058), ('mä', 0.009057192312775242), ('ori', 0.009057192312775242), ('māori', 0.0072797507358757455), ('hadn', 0.006918719138785051), ('facial', 0.006340034618942669), ('nanaia', 0.005891005456728823), ('whitty', 0.005858408161256165), ('vallance', 0.005823800588700596), ('wasn', 0.005691292840533445), ('didn', 0.005395047344392405), ('conspiracy', 0.005314209485745417), ('hrpp', 0.005268189818956918), ('fiame', 0.005268189818956918), ('says', 0.0051071033771465015), ('pr', 0.005095825515113022), ('masks', 0.004786001531276898), ('bingham', 0.004775305506173056)], 46: [('bingham', 0.034577206730015034), ('taskforce', 0.01965624420780394), ('sv', 0.01773809986835879), ('investors', 0.01585759431517445), ('kate', 0.015145699744735796), ('harding', 0.0141634898270904), ('pr', 0.012135900110978369), ('role', 0.012061152546159795), ('perception', 0.011823062370230501), ('osr', 0.011558457617285092), ('dido', 0.011173550092795869), ('married', 0.010058760225297501), ('statistics', 0.009768515155706219), ('contracts', 0.00967476503645249), ('conference', 0.009071432341160179), ('admiral', 0.008927959757513346), ('financiers', 0.008927959757513346), ('guess', 0.008927959757513346), ('vaccines', 0.00889247955217709), ('fund', 0.008791663640135597)], 47: [('universal', 0.019054431467937494), ('credit', 0.01854301099093868), ('rent', 0.01498043008647147), ('enforcement', 0.01411279419769165), ('npcc', 0.013465976375722567), ('chiefs', 0.013107876325662536), ('fines', 0.012887500887631805), ('tenants', 0.012042310971527862), ('north', 0.01169286966133431), ('renters', 0.011597624247640168), ('constable', 0.011597624247640168), ('restrictions', 0.011341637964560398), ('tier', 0.01098377226572334), ('west', 0.01075043751872962), ('burnham', 0.010351708092113361), ('yorkshire', 0.010250525774742733), ('nabarro', 0.01006925082856709), ('landlord', 0.00963384877722229), ('housing', 0.00901770587695843), ('raves', 0.008977317583815045)], 48: [('tax', 0.024920570664167023), ('cgt', 0.013558464503144293), ('self', 0.01288937537422968), ('test', 0.01189666217201204), ('tests', 0.010968554021390025), ('slovakia', 0.01041002889751369), ('profits', 0.01041002889751369), ('bookings', 0.010219414079596345), ('booked', 0.01021628256508566), ('testing', 0.010175835580724579), ('gains', 0.009949975762735336), ('isolation', 0.009063977424927816), ('income', 0.008634904406224409), ('scheme', 0.008588535623807576), ('rates', 0.00853857865997452), ('schemes', 0.008135078701886575), ('ots', 0.008067561271775202), ('refund', 0.008067561271775202), ('transport', 0.008055031393361561), ('sell', 0.007706248713362108)], 49: [('wisconsin', 0.12076768872541727), ('michigan', 0.10976380132154685), ('pennsylvania', 0.09604065689752521), ('joseph', 0.08884460335201387), ('jr', 0.08884460335201387), ('contest', 0.06865234574653425), ('senate', 0.06865234574653425), ('advantageous', 0.05643780526517693), ('winners', 0.050462398536211886), ('jockeying', 0.050462398536211886), ('septuagenarian', 0.050462398536211886), ('arizona', 0.050462398536211886), ('overly', 0.046967009673210464), ('distracted', 0.046967009673210464), ('victories', 0.046967009673210464), ('races', 0.046967009673210464), ('siena', 0.046967009673210464), ('supporters', 0.046493755328456295), ('states', 0.045498974171857186), ('margin', 0.044486991807246835)], 50: [('chlorinated', 0.02597614299987972), ('trade', 0.02435553373114384), ('chicken', 0.023780042786788906), ('agriculture', 0.022024632451026694), ('food', 0.018559928835132425), ('deals', 0.018216656034270997), ('statutory', 0.016897944198141255), ('hormone', 0.016381378561136112), ('tac', 0.01577646297787813), ('beef', 0.01577646297787813), ('circuit', 0.015616879895372119), ('standards', 0.013764343268832711), ('batters', 0.013697388320214023), ('hayward', 0.013105102848908888), ('breaker', 0.012939015969123243), ('farmers', 0.011781861769099313), ('footing', 0.01084573282433792), ('delay', 0.01032779763196874), ('cbi', 0.010189078194182652), ('crag', 0.009828827136681668)], 51: [('ice', 0.030669823738440738), ('antarctica', 0.0247399531184386), ('denmark', 0.02473806238059737), ('antarctic', 0.022777461454918487), ('research', 0.019682444139016906), ('mink', 0.015711165207706487), ('mcclory', 0.014720773698051354), ('rothera', 0.014720773698051354), ('arctic', 0.01417717931285769), ('station', 0.013569850812935814), ('continent', 0.013503387078786198), ('knitting', 0.012308863565034307), ('frederiksen', 0.01177661895844108), ('keeping', 0.010442048220146395), ('ross', 0.010374623335537994), ('mutation', 0.010123316202185994), ('ship', 0.010123316202185994), ('4am', 0.009746284654905929), ('cylinder', 0.009746284654905929), ('sail', 0.009746284654905929)], 52: [('pacific', 0.015625489574965637), ('bjp', 0.015062591202617517), ('goswami', 0.013115575765656607), ('fauci', 0.013021241312471364), ('americans', 0.010988627214973104), ('maharashtra', 0.008816488148700499), ('biden', 0.008723578595159393), ('tv', 0.008483467442412358), ('harrison', 0.007869345459393965), ('nursing', 0.007692626955430446), ('birx', 0.0073470734572504155), ('trump', 0.007333996952722227), ('economy', 0.007309075617004445), ('climate', 0.0072840873570274986), ('dr', 0.007192723958927476), ('lockdowns', 0.007015201766824686), ('polls', 0.007004235708420806), ('pandemic', 0.006874828664104145), ('republic', 0.006779506154878293), ('economic', 0.006746063808394388)], 53: [('patients', 0.01764739875797772), ('care', 0.01652325029143321), ('nurses', 0.016249520855744718), ('critical', 0.01575931111525223), ('nhs', 0.014596927612247805), ('painting', 0.01438708255749283), ('hospital', 0.013557538700663148), ('artist', 0.013501128023010194), ('paint', 0.012722320695625003), ('nurse', 0.012210059447935564), ('portrait', 0.012210059447935564), ('jermaine', 0.012176746491531687), ('dr', 0.01153509294401205), ('enany', 0.010973126688905103), ('ward', 0.01049761331502827), ('wanted', 0.010446702615670544), ('patient', 0.010287418571777151), ('ve', 0.010011962389399824), ('intensive', 0.00949092093719578), ('staff', 0.009058442161837937)], 54: [('zmir', 0.06161718026676465), ('earthquake', 0.04691939162839548), ('buildings', 0.04289604697513227), ('magnitude', 0.03685927284720039), ('greece', 0.03620211537489464), ('quake', 0.035887465622312736), ('rescue', 0.03423176681486925), ('afad', 0.03406264719234742), ('samos', 0.03406264719234742), ('rubble', 0.03406264719234742), ('izmir', 0.032589752464200816), ('turkish', 0.03217672783080648), ('trapped', 0.030368813608615253), ('seferihisar', 0.026971154069764428), ('turkey', 0.026882745774077423), ('rescuers', 0.025546985394260563), ('injured', 0.023376347723236105), ('miles', 0.02223585201592461), ('rescued', 0.020539060088921552), ('collapsed', 0.02010831069788378)], 55: [('boris', 0.023135378429429237), ('blair', 0.019676094891430518), ('starmer', 0.019291396603751003), ('comeback', 0.01831318696501652), ('joseph', 0.01732096468711531), ('jr', 0.01732096468711531), ('presidential', 0.016599986331797007), ('debate', 0.015860107709739675), ('wasn', 0.01494083935615671), ('elect', 0.014802693267813275), ('prize', 0.014266219555517575), ('battleground', 0.01394584920323413), ('ago', 0.01368689683525159), ('winning', 0.012903311629103577), ('florida', 0.012903311629103577), ('losing', 0.012686375423599135), ('easily', 0.012482595182199355), ('victory', 0.012449989748847754), ('maybe', 0.012290466060048267), ('written', 0.011936313066240448)], 56: [('abiy', 0.07191668742207918), ('ethiopia', 0.044698754214479136), ('eritrea', 0.030904371245872416), ('tigray', 0.022049504666569995), ('addis', 0.021686135286799454), ('tigrayan', 0.020140243388165793), ('ethiopian', 0.018969553791967304), ('peace', 0.017387638306316885), ('ababa', 0.016750759447955864), ('ahmed', 0.01626460146509959), ('unity', 0.016154900902389916), ('nobel', 0.015835779733340914), ('equal', 0.01478839354723006), ('mengistu', 0.014207859782040238), ('bomber', 0.014207859782040238), ('lemma', 0.014207859782040238), ('artillery', 0.013223721170127217), ('reforms', 0.01311533894997846), ('coalition', 0.012928591518955824), ('military', 0.012626682597730218)], 57: [('deal', 0.02448878391568839), ('biden', 0.022601681612438588), ('brexit', 0.02161054291623829), ('agreement', 0.02154153431918938), ('eu', 0.018249703539486028), ('trade', 0.017414246340045077), ('ireland', 0.01640711640237975), ('clauses', 0.01486618121178666), ('brussels', 0.012210880101257178), ('irish', 0.012087099082532402), ('lords', 0.011536737971478249), ('foreign', 0.011464071399866587), ('transatlantic', 0.011421199219053166), ('good', 0.011363289832394484), ('northern', 0.010755810794587295), ('policy', 0.010262997445693688), ('raab', 0.009109943880421682), ('downing', 0.009032529902370426), ('relationship', 0.008996367630030923), ('friday', 0.008461833193297248)], 58: [('deal', 0.030734251937316517), ('eu', 0.02712315207053864), ('negotiations', 0.0237058807990022), ('sides', 0.021547542943245544), ('trade', 0.02127755903352682), ('talks', 0.020910671861401525), ('barnier', 0.0207747967998208), ('leyen', 0.020388146510323123), ('von', 0.020388146510323123), ('der', 0.01907694079755318), ('progress', 0.0168649231944008), ('fishing', 0.016026634005343574), ('ratification', 0.016003044388539864), ('brussels', 0.01591449312675153), ('mechanism', 0.015577476213106203), ('transition', 0.014288925254310943), ('subsidies', 0.013849864533213869), ('ghana', 0.01378268388849991), ('sources', 0.013742685088948006), ('level', 0.013036219661207776)], 59: [('vitamin', 0.025112178633701913), ('cells', 0.01668452589816564), ('deficiency', 0.013924541724955638), ('patients', 0.0124616419269753), ('antibody', 0.01238253506732527), ('levels', 0.011844230811612245), ('study', 0.011828989588430074), ('vaccines', 0.011276060849463403), ('aspirin', 0.01056631457740698), ('vaccine', 0.010425350689770553), ('doses', 0.010070084111008857), ('trial', 0.00992605320623275), ('produce', 0.009097587129805504), ('immune', 0.008918577419717607), ('antibodies', 0.008631729324774389), ('immunity', 0.00845306265488321), ('countries', 0.008384883528642294), ('blood', 0.008273105321902422), ('available', 0.007857845518775764), ('stevens', 0.00769237811249068)], 60: [('biontech', 0.029512639000585584), ('türeci', 0.023078856596434792), ('şahin', 0.023078856596434792), ('company', 0.023011327655812316), ('vaccine', 0.022401340661428695), ('pfizer', 0.01923005087737613), ('immune', 0.018591630454487078), ('results', 0.01765771007231349), ('cells', 0.01699680312085858), ('sahin', 0.015249113083303255), ('antibodies', 0.014014299173603872), ('couple', 0.013698498155903351), ('trial', 0.013223168781729643), ('trials', 0.012570857540955953), ('news', 0.012106253942290573), ('memory', 0.011769588996423167), ('mrna', 0.011607879171997966), ('efficacy', 0.011453693514117166), ('german', 0.011441003356607434), ('doses', 0.010899721722427199)], 61: [('plants', 0.03153416295362612), ('birds', 0.024059063222063897), ('peacocks', 0.022029289533381395), ('plant', 0.01911523365035829), ('zealand', 0.016751217055590493), ('adkins', 0.01605523671873653), ('peafowl', 0.01605523671873653), ('moreham', 0.013892367749933661), ('gardening', 0.013892367749933661), ('beauchamp', 0.013892367749933661), ('hotels', 0.013732258184779036), ('suppliers', 0.013714841061246562), ('sales', 0.0128062126129957), ('isolation', 0.012770345233668188), ('gardens', 0.011942038035358689), ('possums', 0.011616186943479198), ('horticulture', 0.011616186943479198), ('rats', 0.01111389419994693), ('border', 0.010481169030129913), ('wild', 0.01005592317181922)], 62: [('ireland', 0.016539538649372323), ('scottish', 0.016345326613145694), ('northern', 0.014800177955229992), ('scotland', 0.013445758242978653), ('seed', 0.01294840774911807), ('potatoes', 0.010917331129469991), ('furlough', 0.010217407501997372), ('buckland', 0.009357712396688565), ('canada', 0.00881613164679646), ('demand', 0.008796275892094202), ('tate', 0.008368385590383769), ('lyle', 0.008368385590383769), ('harding', 0.007993600360301034), ('sugar', 0.007571769269628284), ('sugars', 0.006997275999512723), ('answer', 0.006612098735097345), ('plan', 0.00634843919625541), ('spiegelhalter', 0.0062384749311257095), ('welsh', 0.006197311276041287), ('bbc', 0.006113713383206378)], 63: [('christmas', 0.02556416484728721), ('vaccines', 0.018845474143476055), ('astrazeneca', 0.016374925510482467), ('vaccine', 0.013551764972473963), ('frontrunners', 0.013536250852162916), ('jackson', 0.013036397372261739), ('chance', 0.012641080765816754), ('pfizer', 0.012371903877242674), ('cepi', 0.011202549257215382), ('turkeys', 0.011202549257215382), ('baines', 0.011202549257215382), ('trials', 0.010918293814872778), ('crucial', 0.010667574387509862), ('look', 0.009983647049171748), ('significant', 0.009820993956827834), ('santa', 0.009777298029196302), ('doses', 0.008765597546937114), ('nick', 0.008726936911103107), ('portfolio', 0.008726936911103107), ('leeds', 0.008530959845021563)], 64: [('tb', 0.022679340369248267), ('vaccination', 0.01839186769712817), ('nhs', 0.01714403160790226), ('gps', 0.011197460402405301), ('centres', 0.010839379838381697), ('lamp', 0.009512491926337444), ('care', 0.008998308255248246), ('rollout', 0.00896195325914871), ('test', 0.008827525572156878), ('mass', 0.008552579485090786), ('optigene', 0.00850680134101727), ('tests', 0.00835303390326394), ('doctors', 0.008175045282098163), ('doses', 0.007932533520939438), ('jabs', 0.007927076605281204), ('sensitivity', 0.007927076605281204), ('pfizer', 0.0077750722591734414), ('staff', 0.007714905218178198), ('testing', 0.0074642511915661664), ('manchester', 0.007433874042868271)], 65: [('saudi', 0.03653226616481261), ('enaire', 0.02338537348294657), ('g20', 0.022627255385435464), ('laws', 0.020722985354339675), ('bin', 0.018856046154529554), ('amendment', 0.01798236222720177), ('oil', 0.017464195756753443), ('gender', 0.01700364810640227), ('emirati', 0.016919642785706995), ('jailed', 0.016319000218438472), ('ambassador', 0.015809414265173707), ('urban', 0.015732521351058664), ('orbán', 0.015084836923623642), ('taxis', 0.014647029078953076), ('arabia', 0.014353536774742217), ('al', 0.014353536774742217), ('women', 0.013515947629586989), ('fidesz', 0.013397147021538724), ('clemency', 0.012689732089280247), ('mohammed', 0.012689732089280247)], 66: [('vaccinated', 0.013969327063845634), ('tests', 0.013453493388429324), ('drugs', 0.012805808892322553), ('deaths', 0.012558059285630656), ('rapid', 0.011766857204638222), ('liverpool', 0.01054400354397385), ('numbers', 0.010350333158176964), ('severe', 0.010216315969792774), ('tier', 0.009845963157432702), ('distancing', 0.009795283673515615), ('death', 0.009400521317910826), ('disease', 0.009387520734131478), ('testing', 0.00911669063885733), ('normality', 0.008595178199289443), ('stop', 0.008235474076273381), ('herd', 0.008165849577232282), ('gran', 0.007982472607911791), ('salisbury', 0.00786172167690103), ('sly', 0.00786172167690103), ('virus', 0.007852419657850798)], 67: [('suspension', 0.01865437946100975), ('lavery', 0.016530412096505784), ('corbyn', 0.015505639895551569), ('mps', 0.014296616657592777), ('group', 0.012909693123802102), ('groups', 0.010049511354483044), ('momentum', 0.00999726114225925), ('starmer', 0.009954655104560457), ('crg', 0.009547624513673698), ('mccluskey', 0.009208686524743263), ('cohesion', 0.009134777980252404), ('mcvey', 0.009134777980252404), ('neighbourhood', 0.009037298985072306), ('areas', 0.008951077866680507), ('unite', 0.00887774100291007), ('members', 0.008389640017995253), ('left', 0.008202855921592742), ('mp', 0.00791883871784004), ('direction', 0.007852359514831597), ('declined', 0.007696368144986871)], 68: [('lukashenko', 0.019096033518162463), ('christmas', 0.011259898211412187), ('vlasova', 0.01074612173237787), ('remembrance', 0.010434236597786056), ('worship', 0.010310401640723629), ('stevens', 0.009127159348687639), ('circuit', 0.007852732066174768), ('tory', 0.007794419496033323), ('impact', 0.007392741105665648), ('tikhanovsky', 0.006887542275129307), ('voskresensky', 0.006887542275129307), ('letter', 0.006877526852741815), ('communal', 0.00674420736819335), ('conservative', 0.006614738803112071), ('mps', 0.006513731671400997), ('breaker', 0.006506205227049959), ('tier', 0.0061470742955863624), ('1922', 0.006140640989930212), ('think', 0.005919018228027113), ('johnson', 0.0058749330840713486)], 69: [('fries', 0.021323837083917364), ('belgium', 0.0193970676894761), ('ogden', 0.017022765900474232), ('dumping', 0.016470913824720327), ('mp', 0.015322669428374255), ('quirke', 0.014729556975914151), ('visits', 0.014247636255262302), ('valerie', 0.014185638250395193), ('barry', 0.014185638250395193), ('zealand', 0.013581702414754877), ('mps', 0.012618411875967295), ('care', 0.011129002112483128), ('baker', 0.010661918541958682), ('williamson', 0.01038081344492674), ('dementia', 0.010129356366984435), ('claridge', 0.009752099860547281), ('growers', 0.009237155816779178), ('frozen', 0.009237155816779178), ('laethem', 0.009237155816779178), ('whips', 0.008837734185548491)], 70: [('gas', 0.038724766090383396), ('hydrogen', 0.025991818874651275), ('russia', 0.022652000222653935), ('emissions', 0.022143218788341912), ('novak', 0.02074920410850532), ('carbon', 0.01897990181857878), ('production', 0.018078088698505985), ('energy', 0.017926106228135546), ('york', 0.015846972686492832), ('cubic', 0.011259253199215927), ('meters', 0.011259253199215927), ('isolation', 0.011002619869201634), ('fossil', 0.010772394541803107), ('cuomo', 0.010038273298265914), ('contacts', 0.009799946415745681), ('governor', 0.009681191522595849), ('increasing', 0.009681191522595849), ('burning', 0.00948995090928939), ('test', 0.008825160302147115), ('record', 0.008516358810004076)], 71: [('migration', 0.026998887440893585), ('breweries', 0.02618580672932394), ('canaries', 0.020732242361602034), ('alibaba', 0.01842203657352861), ('migrants', 0.018214367105942566), ('reception', 0.016419942487830873), ('jalloul', 0.016119282001837536), ('spain', 0.014827091524947513), ('ant', 0.014706265798554026), ('arrivals', 0.014643518091573332), ('islands', 0.013747112500381301), ('docks', 0.01272512241836707), ('job', 0.012640345499724922), ('pubs', 0.012412504947769947), ('guide', 0.011210208333567794), ('jobs', 0.011033337731351064), ('sea', 0.010898440310830175), ('applying', 0.010693015819490085), ('torres', 0.0106401877312178), ('applied', 0.010550385138653733)], 72: [('estonia', 0.011984503407613496), ('youth', 0.011976473283468346), ('unemployment', 0.010832141068101578), ('digital', 0.010322992447931247), ('deaths', 0.008872608569852343), ('increased', 0.008764905979702411), ('eaqub', 0.008729543466694065), ('pollution', 0.008590511170079968), ('react', 0.00816369042509496), ('infections', 0.008113415188967191), ('study', 0.007632500951831188), ('housing', 0.007525768216807028), ('prices', 0.007256613711195521), ('beds', 0.007066738667627718), ('hospital', 0.006985845520794652), ('teachers', 0.006945078487251505), ('highest', 0.006913871093750741), ('regions', 0.006680451002040828), ('data', 0.006453535598667917), ('shortage', 0.006374539570235912)], 73: [('ardern', 0.052188365074011436), ('greens', 0.03319112110369723), ('poverty', 0.0308179713119659), ('davidson', 0.027837189333915546), ('zealand', 0.023813530166227444), ('child', 0.02203286045774857), ('cooperation', 0.02149691717408656), ('green', 0.01897028931839312), ('agreement', 0.018449400935772024), ('climate', 0.016971340814885508), ('shaw', 0.015799511994644556), ('bubble', 0.014204212548826131), ('expertise', 0.013918594666957773), ('policies', 0.013474926321650314), ('term', 0.013029925787159514), ('families', 0.012959979735753496), ('targets', 0.012741875370556759), ('jacinda', 0.012504729859664849), ('issues', 0.012409891594655479), ('environment', 0.01232419803184319)], 74: [('childcare', 0.011770434442802877), ('gove', 0.009573454472723812), ('household', 0.009058339006803764), ('continuity', 0.008766804306312), ('agreements', 0.008691950046428747), ('turn', 0.0077949156874479895), ('firebreak', 0.007726177819047775), ('scheme', 0.007520072792636587), ('drakeford', 0.007225065126259075), ('wales', 0.007151587859309454), ('december', 0.006957935374785776), ('johnson', 0.006743371092655747), ('bubble', 0.006565602736514985), ('boris', 0.006463837607799681), ('truss', 0.0064372088129517014), ('allowed', 0.006250632114919623), ('measures', 0.005949553151020804), ('thornberry', 0.005899820218014644), ('restrictions', 0.0058954948532104765), ('meet', 0.005837497679539911)], 75: [('universities', 0.021672718258524883), ('students', 0.016694601709766332), ('travel', 0.009966823443236726), ('wales', 0.00928754031075212), ('wrexham', 0.009248862677941477), ('testing', 0.007867284609415865), ('christmas', 0.007310826481116853), ('chester', 0.006908028002226346), ('plans', 0.006901443743198894), ('england', 0.00663403700953073), ('welsh', 0.006197311276041287), ('scotland', 0.006174072662592238), ('mass', 0.006009584906957254), ('hancock', 0.005739983481461334), ('allowed', 0.005729998350383945), ('december', 0.005627989601681873), ('outdoor', 0.005483094462741998), ('sage', 0.005456079246085657), ('firebreak', 0.005311981093749674), ('planning', 0.005307744156881751)], 76: [('ireland', 0.015121863907997553), ('products', 0.014771321304087379), ('food', 0.012641723278890198), ('chains', 0.012637949152806693), ('checks', 0.0121862974492915), ('sainsbury', 0.011513380003710579), ('roberts', 0.011140133805581624), ('aviation', 0.011140133805581624), ('northern', 0.010571555682307138), ('eu', 0.009876282789700697), ('stores', 0.009641249523726362), ('industry', 0.009131741089526774), ('ni', 0.008912107044465298), ('supermarket', 0.008912107044465298), ('clarity', 0.008853301822916125), ('supermarkets', 0.008853301822916125), ('executive', 0.008370332091033234), ('draconian', 0.008036591066270516), ('shops', 0.007961616235322625), ('cornish', 0.00791502148488002)], 77: [('dalai', 0.02101089266221029), ('lama', 0.019379231436048878), ('bike', 0.014377342062245087), ('spaces', 0.012868814092539682), ('infrastructure', 0.011673822308360421), ('closing', 0.010402761306050794), ('bhattacharya', 0.010218794157704224), ('climate', 0.009335170965283558), ('green', 0.009130364770953784), ('lanes', 0.008846225483328096), ('cycle', 0.008612991749355058), ('schiphol', 0.008091346220929328), ('superblocks', 0.008091346220929328), ('bikes', 0.008091346220929328), ('parking', 0.007664095618278168), ('cyclists', 0.007664095618278168), ('squares', 0.007664095618278168), ('measures', 0.007248146212548066), ('plan', 0.007210960913238406), ('manufacturers', 0.007061919715147231)]}\n"
          ],
          "name": "stdout"
        }
      ]
    },
    {
      "cell_type": "markdown",
      "metadata": {
        "id": "inIQPln8vCQj"
      },
      "source": [
        "## Topic Reduction\n",
        "reduce the topics using class based tf_idf so that related clusters are combined "
      ]
    },
    {
      "cell_type": "code",
      "metadata": {
        "id": "gZ7JWcHrqPB2",
        "colab": {
          "base_uri": "https://localhost:8080/",
          "height": 1000
        },
        "outputId": "fe7ba0d4-a928-4b4b-e126-1af8f824b009"
      },
      "source": [
        "for i in tqdm(range(20)):\n",
        "    # Calculate cosine similarity\n",
        "    similarities = cosine_similarity(tf_idf.T)\n",
        "    np.fill_diagonal(similarities, 0)\n",
        "\n",
        "    # Extract label to merge into and from where\n",
        "    topic_sizes = docs_df.groupby(['Topic']).count().sort_values(\"Doc\", ascending=False).reset_index()\n",
        "    topic_to_merge = topic_sizes.iloc[-1].Topic\n",
        "    topic_to_merge_into = np.argmax(similarities[topic_to_merge + 1]) - 1\n",
        "\n",
        "    # Adjust topics\n",
        "    docs_df.loc[docs_df.Topic == topic_to_merge, \"Topic\"] = topic_to_merge_into\n",
        "    old_topics = docs_df.sort_values(\"Topic\").Topic.unique()\n",
        "    map_topics = {old_topic: index - 1 for index, old_topic in enumerate(old_topics)}\n",
        "    docs_df.Topic = docs_df.Topic.map(map_topics)\n",
        "    docs_per_topic = docs_df.groupby(['Topic'], as_index = False).agg({'Doc': ' '.join})\n",
        "\n",
        "    # Calculate new topic words\n",
        "    m = len(data)\n",
        "    tf_idf, count = c_tf_idf(docs_per_topic.Doc.values, m)\n",
        "    top_n_words = extract_top_n_words_per_topic(tf_idf, count, docs_per_topic, n=10)\n",
        "\n",
        "topic_sizes = extract_topic_sizes(docs_df); topic_sizes"
      ],
      "execution_count": 14,
      "outputs": [
        {
          "output_type": "stream",
          "text": [
            "100%|██████████| 20/20 [00:10<00:00,  1.86it/s]\n"
          ],
          "name": "stderr"
        },
        {
          "output_type": "execute_result",
          "data": {
            "text/html": [
              "<div>\n",
              "<style scoped>\n",
              "    .dataframe tbody tr th:only-of-type {\n",
              "        vertical-align: middle;\n",
              "    }\n",
              "\n",
              "    .dataframe tbody tr th {\n",
              "        vertical-align: top;\n",
              "    }\n",
              "\n",
              "    .dataframe thead th {\n",
              "        text-align: right;\n",
              "    }\n",
              "</style>\n",
              "<table border=\"1\" class=\"dataframe\">\n",
              "  <thead>\n",
              "    <tr style=\"text-align: right;\">\n",
              "      <th></th>\n",
              "      <th>Topic</th>\n",
              "      <th>Size</th>\n",
              "    </tr>\n",
              "  </thead>\n",
              "  <tbody>\n",
              "    <tr>\n",
              "      <th>0</th>\n",
              "      <td>-1</td>\n",
              "      <td>126</td>\n",
              "    </tr>\n",
              "    <tr>\n",
              "      <th>14</th>\n",
              "      <td>13</td>\n",
              "      <td>23</td>\n",
              "    </tr>\n",
              "    <tr>\n",
              "      <th>33</th>\n",
              "      <td>32</td>\n",
              "      <td>18</td>\n",
              "    </tr>\n",
              "    <tr>\n",
              "      <th>5</th>\n",
              "      <td>4</td>\n",
              "      <td>16</td>\n",
              "    </tr>\n",
              "    <tr>\n",
              "      <th>10</th>\n",
              "      <td>9</td>\n",
              "      <td>16</td>\n",
              "    </tr>\n",
              "    <tr>\n",
              "      <th>18</th>\n",
              "      <td>17</td>\n",
              "      <td>16</td>\n",
              "    </tr>\n",
              "    <tr>\n",
              "      <th>2</th>\n",
              "      <td>1</td>\n",
              "      <td>15</td>\n",
              "    </tr>\n",
              "    <tr>\n",
              "      <th>46</th>\n",
              "      <td>45</td>\n",
              "      <td>15</td>\n",
              "    </tr>\n",
              "    <tr>\n",
              "      <th>42</th>\n",
              "      <td>41</td>\n",
              "      <td>15</td>\n",
              "    </tr>\n",
              "    <tr>\n",
              "      <th>26</th>\n",
              "      <td>25</td>\n",
              "      <td>15</td>\n",
              "    </tr>\n",
              "    <tr>\n",
              "      <th>38</th>\n",
              "      <td>37</td>\n",
              "      <td>14</td>\n",
              "    </tr>\n",
              "    <tr>\n",
              "      <th>27</th>\n",
              "      <td>26</td>\n",
              "      <td>14</td>\n",
              "    </tr>\n",
              "    <tr>\n",
              "      <th>37</th>\n",
              "      <td>36</td>\n",
              "      <td>14</td>\n",
              "    </tr>\n",
              "    <tr>\n",
              "      <th>54</th>\n",
              "      <td>53</td>\n",
              "      <td>13</td>\n",
              "    </tr>\n",
              "    <tr>\n",
              "      <th>34</th>\n",
              "      <td>33</td>\n",
              "      <td>13</td>\n",
              "    </tr>\n",
              "    <tr>\n",
              "      <th>25</th>\n",
              "      <td>24</td>\n",
              "      <td>12</td>\n",
              "    </tr>\n",
              "    <tr>\n",
              "      <th>56</th>\n",
              "      <td>55</td>\n",
              "      <td>12</td>\n",
              "    </tr>\n",
              "    <tr>\n",
              "      <th>41</th>\n",
              "      <td>40</td>\n",
              "      <td>12</td>\n",
              "    </tr>\n",
              "    <tr>\n",
              "      <th>3</th>\n",
              "      <td>2</td>\n",
              "      <td>12</td>\n",
              "    </tr>\n",
              "    <tr>\n",
              "      <th>43</th>\n",
              "      <td>42</td>\n",
              "      <td>12</td>\n",
              "    </tr>\n",
              "    <tr>\n",
              "      <th>55</th>\n",
              "      <td>54</td>\n",
              "      <td>12</td>\n",
              "    </tr>\n",
              "    <tr>\n",
              "      <th>6</th>\n",
              "      <td>5</td>\n",
              "      <td>11</td>\n",
              "    </tr>\n",
              "    <tr>\n",
              "      <th>21</th>\n",
              "      <td>20</td>\n",
              "      <td>11</td>\n",
              "    </tr>\n",
              "    <tr>\n",
              "      <th>24</th>\n",
              "      <td>23</td>\n",
              "      <td>10</td>\n",
              "    </tr>\n",
              "    <tr>\n",
              "      <th>48</th>\n",
              "      <td>47</td>\n",
              "      <td>10</td>\n",
              "    </tr>\n",
              "    <tr>\n",
              "      <th>40</th>\n",
              "      <td>39</td>\n",
              "      <td>10</td>\n",
              "    </tr>\n",
              "    <tr>\n",
              "      <th>31</th>\n",
              "      <td>30</td>\n",
              "      <td>10</td>\n",
              "    </tr>\n",
              "    <tr>\n",
              "      <th>11</th>\n",
              "      <td>10</td>\n",
              "      <td>10</td>\n",
              "    </tr>\n",
              "    <tr>\n",
              "      <th>36</th>\n",
              "      <td>35</td>\n",
              "      <td>10</td>\n",
              "    </tr>\n",
              "    <tr>\n",
              "      <th>20</th>\n",
              "      <td>19</td>\n",
              "      <td>9</td>\n",
              "    </tr>\n",
              "    <tr>\n",
              "      <th>12</th>\n",
              "      <td>11</td>\n",
              "      <td>9</td>\n",
              "    </tr>\n",
              "    <tr>\n",
              "      <th>51</th>\n",
              "      <td>50</td>\n",
              "      <td>9</td>\n",
              "    </tr>\n",
              "    <tr>\n",
              "      <th>23</th>\n",
              "      <td>22</td>\n",
              "      <td>8</td>\n",
              "    </tr>\n",
              "    <tr>\n",
              "      <th>22</th>\n",
              "      <td>21</td>\n",
              "      <td>8</td>\n",
              "    </tr>\n",
              "    <tr>\n",
              "      <th>30</th>\n",
              "      <td>29</td>\n",
              "      <td>8</td>\n",
              "    </tr>\n",
              "    <tr>\n",
              "      <th>35</th>\n",
              "      <td>34</td>\n",
              "      <td>8</td>\n",
              "    </tr>\n",
              "    <tr>\n",
              "      <th>47</th>\n",
              "      <td>46</td>\n",
              "      <td>7</td>\n",
              "    </tr>\n",
              "    <tr>\n",
              "      <th>29</th>\n",
              "      <td>28</td>\n",
              "      <td>7</td>\n",
              "    </tr>\n",
              "    <tr>\n",
              "      <th>13</th>\n",
              "      <td>12</td>\n",
              "      <td>7</td>\n",
              "    </tr>\n",
              "    <tr>\n",
              "      <th>16</th>\n",
              "      <td>15</td>\n",
              "      <td>7</td>\n",
              "    </tr>\n",
              "    <tr>\n",
              "      <th>8</th>\n",
              "      <td>7</td>\n",
              "      <td>7</td>\n",
              "    </tr>\n",
              "    <tr>\n",
              "      <th>9</th>\n",
              "      <td>8</td>\n",
              "      <td>7</td>\n",
              "    </tr>\n",
              "    <tr>\n",
              "      <th>58</th>\n",
              "      <td>57</td>\n",
              "      <td>7</td>\n",
              "    </tr>\n",
              "    <tr>\n",
              "      <th>17</th>\n",
              "      <td>16</td>\n",
              "      <td>6</td>\n",
              "    </tr>\n",
              "    <tr>\n",
              "      <th>44</th>\n",
              "      <td>43</td>\n",
              "      <td>6</td>\n",
              "    </tr>\n",
              "    <tr>\n",
              "      <th>45</th>\n",
              "      <td>44</td>\n",
              "      <td>6</td>\n",
              "    </tr>\n",
              "    <tr>\n",
              "      <th>19</th>\n",
              "      <td>18</td>\n",
              "      <td>6</td>\n",
              "    </tr>\n",
              "    <tr>\n",
              "      <th>15</th>\n",
              "      <td>14</td>\n",
              "      <td>6</td>\n",
              "    </tr>\n",
              "    <tr>\n",
              "      <th>39</th>\n",
              "      <td>38</td>\n",
              "      <td>6</td>\n",
              "    </tr>\n",
              "    <tr>\n",
              "      <th>49</th>\n",
              "      <td>48</td>\n",
              "      <td>6</td>\n",
              "    </tr>\n",
              "    <tr>\n",
              "      <th>28</th>\n",
              "      <td>27</td>\n",
              "      <td>6</td>\n",
              "    </tr>\n",
              "    <tr>\n",
              "      <th>53</th>\n",
              "      <td>52</td>\n",
              "      <td>6</td>\n",
              "    </tr>\n",
              "    <tr>\n",
              "      <th>1</th>\n",
              "      <td>0</td>\n",
              "      <td>6</td>\n",
              "    </tr>\n",
              "    <tr>\n",
              "      <th>57</th>\n",
              "      <td>56</td>\n",
              "      <td>6</td>\n",
              "    </tr>\n",
              "    <tr>\n",
              "      <th>32</th>\n",
              "      <td>31</td>\n",
              "      <td>6</td>\n",
              "    </tr>\n",
              "    <tr>\n",
              "      <th>50</th>\n",
              "      <td>49</td>\n",
              "      <td>5</td>\n",
              "    </tr>\n",
              "    <tr>\n",
              "      <th>52</th>\n",
              "      <td>51</td>\n",
              "      <td>5</td>\n",
              "    </tr>\n",
              "    <tr>\n",
              "      <th>7</th>\n",
              "      <td>6</td>\n",
              "      <td>5</td>\n",
              "    </tr>\n",
              "    <tr>\n",
              "      <th>4</th>\n",
              "      <td>3</td>\n",
              "      <td>5</td>\n",
              "    </tr>\n",
              "  </tbody>\n",
              "</table>\n",
              "</div>"
            ],
            "text/plain": [
              "    Topic  Size\n",
              "0      -1   126\n",
              "14     13    23\n",
              "33     32    18\n",
              "5       4    16\n",
              "10      9    16\n",
              "18     17    16\n",
              "2       1    15\n",
              "46     45    15\n",
              "42     41    15\n",
              "26     25    15\n",
              "38     37    14\n",
              "27     26    14\n",
              "37     36    14\n",
              "54     53    13\n",
              "34     33    13\n",
              "25     24    12\n",
              "56     55    12\n",
              "41     40    12\n",
              "3       2    12\n",
              "43     42    12\n",
              "55     54    12\n",
              "6       5    11\n",
              "21     20    11\n",
              "24     23    10\n",
              "48     47    10\n",
              "40     39    10\n",
              "31     30    10\n",
              "11     10    10\n",
              "36     35    10\n",
              "20     19     9\n",
              "12     11     9\n",
              "51     50     9\n",
              "23     22     8\n",
              "22     21     8\n",
              "30     29     8\n",
              "35     34     8\n",
              "47     46     7\n",
              "29     28     7\n",
              "13     12     7\n",
              "16     15     7\n",
              "8       7     7\n",
              "9       8     7\n",
              "58     57     7\n",
              "17     16     6\n",
              "44     43     6\n",
              "45     44     6\n",
              "19     18     6\n",
              "15     14     6\n",
              "39     38     6\n",
              "49     48     6\n",
              "28     27     6\n",
              "53     52     6\n",
              "1       0     6\n",
              "57     56     6\n",
              "32     31     6\n",
              "50     49     5\n",
              "52     51     5\n",
              "7       6     5\n",
              "4       3     5"
            ]
          },
          "metadata": {
            "tags": []
          },
          "execution_count": 14
        }
      ]
    },
    {
      "cell_type": "code",
      "metadata": {
        "id": "GrxvoOD1CtoE",
        "colab": {
          "base_uri": "https://localhost:8080/"
        },
        "outputId": "b860ffa0-86a9-4069-fa35-4db8ff4795b9"
      },
      "source": [
        "# print length of topics after reduction \n",
        "\n",
        "#print top words for each cluster \n",
        "print(len(topic_sizes))\n",
        "\n",
        "# print topics for single cluster\n",
        "print(json.dumps(top_n_words[13], indent=1))\n",
        "\n",
        "#print top words for each cluster \n",
        "for key, value in top_n_words.items():\n",
        "  print(key, ' : ', value)"
      ],
      "execution_count": 15,
      "outputs": [
        {
          "output_type": "stream",
          "text": [
            "59\n",
            "[\n",
            " [\n",
            "  \"corbyn\",\n",
            "  0.02240343816823932\n",
            " ],\n",
            " [\n",
            "  \"antisemitism\",\n",
            "  0.01799626503846685\n",
            " ],\n",
            " [\n",
            "  \"jeremy\",\n",
            "  0.013922247233702745\n",
            " ],\n",
            " [\n",
            "  \"ehrc\",\n",
            "  0.012622377361450849\n",
            " ],\n",
            " [\n",
            "  \"starmer\",\n",
            "  0.012453622394948977\n",
            " ],\n",
            " [\n",
            "  \"suspension\",\n",
            "  0.012181017349184016\n",
            " ],\n",
            " [\n",
            "  \"report\",\n",
            "  0.010658747756127542\n",
            " ],\n",
            " [\n",
            "  \"labour\",\n",
            "  0.010492347447324761\n",
            " ],\n",
            " [\n",
            "  \"complaints\",\n",
            "  0.008589582364436032\n",
            " ],\n",
            " [\n",
            "  \"jewish\",\n",
            "  0.008127330331812442\n",
            " ]\n",
            "]\n",
            "-1  :  [('rabin', 0.0034710858236929594), ('ardern', 0.002721510092543786), ('zealand', 0.0026758807519695255), ('care', 0.0023589860141360174), ('hospital', 0.0023589860141360174), ('women', 0.0023461403046852445), ('says', 0.002282049813896946), ('wave', 0.002198174528780194), ('second', 0.00215736217636674), ('patients', 0.002138057089618947)]\n",
            "0  :  [('storms', 0.05916656526145571), ('hurricane', 0.05916656526145571), ('eta', 0.051272908281193734), ('nicaragua', 0.04568186047954103), ('storm', 0.04534245679815455), ('flooding', 0.04187503877291261), ('honduras', 0.03977694768290982), ('hurricanes', 0.030183811463857988), ('puerto', 0.029307785457886423), ('winds', 0.028535075758172566)]\n",
            "1  :  [('tigray', 0.05390102555643491), ('abiy', 0.05144755385799525), ('ethiopia', 0.03847014924037993), ('military', 0.02326859591811754), ('ethiopian', 0.020287725660897944), ('region', 0.018565173366570393), ('tigrayan', 0.018225955078907223), ('eritrea', 0.016949681780217565), ('war', 0.01671368965749187), ('federal', 0.015978707425340345)]\n",
            "2  :  [('sacoolas', 0.01761371317966314), ('immunity', 0.015760906776226543), ('boat', 0.012560007255980147), ('jane', 0.011202989912232592), ('unhcr', 0.010931617045116492), ('bame', 0.010931617045116492), ('family', 0.010589800337298273), ('fcdo', 0.010369004131338209), ('refugee', 0.010064978959807508), ('diagnosis', 0.010064978959807508)]\n",
            "3  :  [('corbyn', 0.022629716251659503), ('belarusian', 0.019277410314407308), ('nec', 0.0182244168998225), ('walk', 0.017573117480996474), ('golf', 0.01637316235116731), ('jenrick', 0.01637316235116731), ('starmer', 0.016031258350882465), ('tennis', 0.014182537573228083), ('problem', 0.013224306835497114), ('antisemitism', 0.012985249751366553)]\n",
            "4  :  [('mccarrick', 0.017763119194277022), ('aouissaoui', 0.01717141190782957), ('sharma', 0.01665101255009715), ('kabuga', 0.01665101255009715), ('erekat', 0.011035215107917202), ('pope', 0.009933657195918566), ('tested', 0.00892492155609617), ('church', 0.008680284367806176), ('seals', 0.008647906465904076), ('confirmed', 0.008098320267736818)]\n",
            "5  :  [('gilbert', 0.025993461987187386), ('moore', 0.02489760407372346), ('prison', 0.024214463354447307), ('ono', 0.02384958412967294), ('chin', 0.023466490152949812), ('corruption', 0.021830484111235633), ('arrest', 0.019358137440254705), ('zimbabwe', 0.018024404232852956), ('carlos', 0.016976701774327772), ('juan', 0.015726050763424117)]\n",
            "6  :  [('karabakh', 0.03874369879991131), ('turkey', 0.035299986866935903), ('ceasefire', 0.03451212180540834), ('nagorno', 0.029566987604172253), ('cdc', 0.029040155161954635), ('armenia', 0.025871114153650725), ('erdoğan', 0.023768669466073842), ('peacekeeping', 0.023562084688105656), ('masks', 0.02186834545829598), ('ankara', 0.021168624491577817)]\n",
            "7  :  [('protests', 0.025503327132335166), ('protest', 0.023589880240634062), ('shot', 0.01791953518285411), ('black', 0.01492919289582614), ('violent', 0.014363331346658417), ('lives', 0.01328102652001409), ('shooting', 0.01310651876326475), ('demonstrations', 0.012611025799170908), ('vegas', 0.012012697115450447), ('acled', 0.012012697115450447)]\n",
            "8  :  [('amazon', 0.024295107328002385), ('uzbekov', 0.023500555469360345), ('russian', 0.01927397209468298), ('bank', 0.014630568927489863), ('marugov', 0.013669289862476256), ('nice', 0.013309250744014348), ('man', 0.012758721899204887), ('murder', 0.012323603026256007), ('campaign', 0.011710109802946393), ('suspect', 0.01148087361263192)]\n",
            "9  :  [('french', 0.018436982783860224), ('nice', 0.015484865173615695), ('france', 0.014373596215659758), ('officers', 0.013198715905664387), ('attack', 0.012577126458784938), ('police', 0.012529886719526108), ('basilica', 0.011926033424094531), ('man', 0.011492394887762604), ('sinu', 0.01012937346875941), ('terrorist', 0.009931290945074429)]\n",
            "10  :  [('asylum', 0.023244413963643504), ('racing', 0.02146693543658187), ('horses', 0.019577969736924366), ('seekers', 0.01952800899310071), ('nsw', 0.016415352642088925), ('roccafiorita', 0.013054288191528514), ('racehorses', 0.013054288191528514), ('meddick', 0.012140161092009376), ('horse', 0.011867534719571377), ('app', 0.011756820313173072)]\n",
            "11  :  [('vizcarra', 0.11023896929263581), ('peru', 0.07170195213047081), ('impeachment', 0.04940286692501266), ('congress', 0.0490155414093603), ('martín', 0.042453297055265564), ('peruvians', 0.042453297055265564), ('merino', 0.042453297055265564), ('presidential', 0.032068155413698764), ('removal', 0.03044982920372934), ('peruvian', 0.030408510286756254)]\n",
            "12  :  [('armstrong', 0.019326959552670667), ('medieval', 0.016274476754392305), ('plague', 0.014665813675745208), ('black', 0.011100442975963624), ('nightingales', 0.009399801547614998), ('society', 0.009121071558928866), ('death', 0.008899673870645084), ('hungry', 0.00838046495756869), ('florence', 0.00838046495756869), ('eu', 0.008194521038545458)]\n",
            "13  :  [('corbyn', 0.02240343816823932), ('antisemitism', 0.01799626503846685), ('jeremy', 0.013922247233702745), ('ehrc', 0.012622377361450849), ('starmer', 0.012453622394948977), ('suspension', 0.012181017349184016), ('report', 0.010658747756127542), ('labour', 0.010492347447324761), ('complaints', 0.008589582364436032), ('jewish', 0.008127330331812442)]\n",
            "14  :  [('pis', 0.043889783549894354), ('poland', 0.04121204375698014), ('protesters', 0.03256566238752958), ('kaczyński', 0.0298667555953862), ('polish', 0.029278206274257257), ('warsaw', 0.029278206274257257), ('protests', 0.02530514786902407), ('women', 0.022044727417240808), ('abortion', 0.018284823909102174), ('terminations', 0.015892466382127234)]\n",
            "15  :  [('cases', 0.017850843889564698), ('highest', 0.01278052995796613), ('paso', 0.012686835489681081), ('el', 0.012275547656630765), ('johns', 0.012083874136138983), ('hopkins', 0.011889771825093836), ('record', 0.011455881092254682), ('texas', 0.010623895553092282), ('illinois', 0.010149468391744864), ('surge', 0.009994178654732353)]\n",
            "16  :  [('austrian', 0.046427925709605154), ('vienna', 0.032816631058726536), ('austria', 0.026171886265315115), ('deradicalisation', 0.024279042766742868), ('attacker', 0.023006727269444204), ('attack', 0.021451252074553326), ('nehammer', 0.02123765261491992), ('injured', 0.01979729821157294), ('gunman', 0.019577969736924366), ('terror', 0.018760403019530202)]\n",
            "17  :  [('kurdish', 0.017420606663290504), ('icc', 0.014125533988131607), ('attack', 0.01392789789572513), ('vienna', 0.01348132982300444), ('isis', 0.013217090405396599), ('austrian', 0.011229099981498286), ('minassian', 0.010958430977966635), ('fejzulai', 0.010902681979406522), ('austria', 0.010879611899601687), ('attacks', 0.008359799815720553)]\n",
            "18  :  [('randox', 0.03299097172204813), ('cannabis', 0.027033905713552586), ('paterson', 0.021939073635755372), ('png', 0.019554750415219087), ('awarded', 0.015712029201995405), ('bethell', 0.015154534985655076), ('contract', 0.015130998197474755), ('marape', 0.01459492308634889), ('treatment', 0.01356707563826771), ('ehrc', 0.012911369335690466)]\n",
            "19  :  [('love', 0.02058658574162519), ('hotel', 0.018525928516857325), ('hotels', 0.01799886269975659), ('protesters', 0.016064671775479707), ('taiwan', 0.014751197556696717), ('couples', 0.013558342419046117), ('king', 0.01227365147741705), ('sex', 0.011840649756443505), ('reform', 0.011532340766257546), ('demonstrators', 0.010656584780799156)]\n",
            "20  :  [('putin', 0.029948287551383432), ('wto', 0.019432140730116027), ('insurance', 0.019432140730116027), ('japan', 0.01793020074361407), ('lifetime', 0.017129096283340323), ('fertility', 0.017129096283340323), ('birth', 0.01694463128316706), ('referendum', 0.016755075431196753), ('votes', 0.01593795621654584), ('ivf', 0.015370040356338446)]\n",
            "21  :  [('australia', 0.04080702164796775), ('australian', 0.03283271669587378), ('china', 0.02487454239367635), ('qr', 0.019708886251882524), ('app', 0.014991553975022392), ('raby', 0.01481536326190586), ('chinese', 0.01464488901202447), ('check', 0.014161317386775844), ('exporters', 0.01400146581030388), ('code', 0.01383382359470721)]\n",
            "22  :  [('taiwan', 0.019522572568862816), ('library', 0.01608096952698509), ('hokkaido', 0.012286888737809996), ('miceli', 0.012286888737809996), ('governor', 0.010032457838607348), ('historical', 0.009365979400138467), ('manuscripts', 0.009365979400138467), ('japan', 0.009218206373307952), ('infections', 0.009103212453426584), ('cyber', 0.00850533591442967)]\n",
            "23  :  [('nigeria', 0.035674918400738345), ('amlo', 0.0345217787576276), ('trump', 0.031416357597024186), ('mexican', 0.02660329253427185), ('leal', 0.024361669313113822), ('buhari', 0.018673780250856368), ('nixon', 0.017984213092029005), ('nigerian', 0.01645068393882112), ('bolsonaro', 0.015690518385878136), ('odoakang', 0.01561419379618951)]\n",
            "24  :  [('morales', 0.05938774475936431), ('bolivia', 0.05617859491391981), ('arce', 0.03579690662506586), ('evo', 0.030437070068715665), ('mas', 0.024567815086527358), ('argentina', 0.02252049716265008), ('chimoré', 0.016232926830613142), ('latin', 0.014974497088893824), ('shultz', 0.014380118774795772), ('homecoming', 0.014380118774795772)]\n",
            "25  :  [('cain', 0.049972420711826365), ('elect', 0.018244645249816463), ('biden', 0.018030234979382435), ('downing', 0.017527130784143963), ('democrats', 0.017031014359083593), ('message', 0.016458658769768285), ('adviser', 0.014425610021061427), ('street', 0.014064632022522231), ('johnson', 0.013221337626511993), ('cummings', 0.012280094069389643)]\n",
            "26  :  [('sunak', 0.025908484636202118), ('coup', 0.017025905004565214), ('atkin', 0.015405764463132129), ('darbyshire', 0.014064837053382724), ('sassoon', 0.014064837053382724), ('empire', 0.01384083145624061), ('meals', 0.012950697707902099), ('film', 0.012404709467663875), ('53', 0.011691686947514546), ('lapping', 0.01122792430113924)]\n",
            "27  :  [('voters', 0.050367586911173295), ('opinium', 0.03905500445944383), ('margin', 0.03699276738093644), ('favoured', 0.03408620746618257), ('lead', 0.03357839127411553), ('poll', 0.032165993002915165), ('game', 0.031179647551428703), ('62', 0.02974114794238103), ('64', 0.02974114794238103), ('football', 0.02854362762221496)]\n",
            "28  :  [('suu', 0.05408236678907835), ('aung', 0.05294814027338485), ('kyi', 0.047421232600742776), ('san', 0.04149242532630512), ('myanmar', 0.036384805224816255), ('yangon', 0.02882955893653985), ('nld', 0.026564390734818262), ('voters', 0.02616863454044199), ('cast', 0.02574110210355462), ('rohingya', 0.025703213752543076)]\n",
            "29  :  [('guam', 0.09183758113465171), ('territories', 0.035016196215280376), ('vote', 0.034282021484987574), ('straw', 0.034050672402251195), ('island', 0.030870016464437496), ('guamanians', 0.02818020580392628), ('azios', 0.02818020580392628), ('congressional', 0.02459496176654725), ('presidential', 0.021286620403920726), ('voting', 0.020436320498651128)]\n",
            "30  :  [('mink', 0.03757236941650449), ('denmark', 0.029931984568731456), ('mutations', 0.020044566133964384), ('strain', 0.01848740223362825), ('farms', 0.0179346118040734), ('ice', 0.01719027219564342), ('humans', 0.017002618079005615), ('danish', 0.013931294406934991), ('animals', 0.012562670352353261), ('antarctica', 0.012325876821040265)]\n",
            "31  :  [('biya', 0.04990673307134866), ('ouattara', 0.04758762656601216), ('cameroon', 0.03807010125280973), ('whip', 0.020543282611938617), ('expelled', 0.019377164038736853), ('opposition', 0.017102880961010886), ('macdonald', 0.017059474544266557), ('guessan', 0.017059474544266557), ('ivorian', 0.017059474544266557), ('gbagbo', 0.017059474544266557)]\n",
            "32  :  [('jr', 0.043061172655293634), ('joseph', 0.043061172655293634), ('battleground', 0.034670391125031924), ('mail', 0.0315392480934881), ('ballots', 0.031032635654910653), ('postal', 0.02874925375844364), ('trump', 0.02685642268516005), ('election', 0.026832581419111753), ('campaign', 0.022657444079838426), ('frustration', 0.022628851036058627)]\n",
            "33  :  [('bassil', 0.021962363579202927), ('hezbollah', 0.018382003301202262), ('merkel', 0.014296716329949213), ('democratic', 0.012477592567889837), ('cramer', 0.012254668867468175), ('sanctions', 0.01211005978478679), ('lebanese', 0.011880046916088603), ('trump', 0.011420988517328744), ('voters', 0.011270898899757256), ('hungary', 0.009402618097077153)]\n",
            "34  :  [('church', 0.03621776515247166), ('pakistan', 0.03169511867153633), ('worship', 0.025019339072038), ('nichols', 0.024692507533675447), ('gilgit', 0.019369642504116148), ('archbishop', 0.01837492363535036), ('baltistan', 0.01768369666137828), ('faith', 0.01660220501842379), ('mosques', 0.016537431271815322), ('abuse', 0.015092913653112534)]\n",
            "35  :  [('cyprus', 0.013468393936667808), ('visits', 0.011053535775874342), ('remittances', 0.010341201739686324), ('visitors', 0.009236302937322622), ('visiting', 0.008978929291111873), ('island', 0.008925528190116523), ('macfarlane', 0.00890796384662151), ('cuban', 0.00890796384662151), ('turkey', 0.00870118783244423), ('greek', 0.008081036362000686)]\n",
            "36  :  [('mahuta', 0.017453113264310198), ('moko', 0.010840901633565611), ('samoa', 0.009665036334240058), ('mä', 0.009057192312775242), ('ori', 0.009057192312775242), ('māori', 0.0072797507358757455), ('hadn', 0.006918719138785051), ('facial', 0.006340034618942669), ('nanaia', 0.005891005456728823), ('whitty', 0.005858408161256165)]\n",
            "37  :  [('bingham', 0.034577206730015034), ('taskforce', 0.01965624420780394), ('sv', 0.01773809986835879), ('investors', 0.01585759431517445), ('kate', 0.015145699744735796), ('harding', 0.0141634898270904), ('pr', 0.012135900110978369), ('role', 0.012061152546159795), ('perception', 0.011823062370230501), ('osr', 0.011558457617285092)]\n",
            "38  :  [('universal', 0.019054431467937494), ('credit', 0.01854301099093868), ('rent', 0.01498043008647147), ('enforcement', 0.01411279419769165), ('npcc', 0.013465976375722567), ('chiefs', 0.013107876325662536), ('fines', 0.012887500887631805), ('tenants', 0.012042310971527862), ('north', 0.01169286966133431), ('renters', 0.011597624247640168)]\n",
            "39  :  [('tax', 0.024920570664167023), ('cgt', 0.013558464503144293), ('self', 0.01288937537422968), ('test', 0.01189666217201204), ('tests', 0.010968554021390025), ('slovakia', 0.01041002889751369), ('profits', 0.01041002889751369), ('bookings', 0.010219414079596345), ('booked', 0.01021628256508566), ('testing', 0.010175835580724579)]\n",
            "40  :  [('michigan', 0.07681810529894079), ('pennsylvania', 0.06721397405799653), ('wisconsin', 0.06338937507759458), ('jr', 0.058291708081638055), ('joseph', 0.058291708081638055), ('senate', 0.05405207312170571), ('northwest', 0.04670127646733605), ('contest', 0.036034715414470474), ('presidential', 0.03351920316997472), ('2016', 0.03351920316997472)]\n",
            "41  :  [('fauci', 0.015252517286821195), ('pacific', 0.01193675265925137), ('bjp', 0.011506738699638877), ('goswami', 0.010019358634953915), ('americans', 0.00979360968183706), ('trump', 0.008228888282972063), ('biden', 0.007997025590350084), ('nursing', 0.007835486568389336), ('dr', 0.006993286252795313), ('maharashtra', 0.006735164223133808)]\n",
            "42  :  [('boris', 0.023135378429429237), ('blair', 0.019676094891430518), ('starmer', 0.019291396603751003), ('comeback', 0.01831318696501652), ('joseph', 0.01732096468711531), ('jr', 0.01732096468711531), ('presidential', 0.016599986331797007), ('debate', 0.015860107709739675), ('wasn', 0.01494083935615671), ('elect', 0.014802693267813275)]\n",
            "43  :  [('deal', 0.02448878391568839), ('biden', 0.022601681612438588), ('brexit', 0.02161054291623829), ('agreement', 0.02154153431918938), ('eu', 0.018249703539486028), ('trade', 0.017414246340045077), ('ireland', 0.01640711640237975), ('clauses', 0.01486618121178666), ('brussels', 0.012210880101257178), ('irish', 0.012087099082532402)]\n",
            "44  :  [('deal', 0.030734251937316517), ('eu', 0.02712315207053864), ('negotiations', 0.0237058807990022), ('sides', 0.021547542943245544), ('trade', 0.02127755903352682), ('talks', 0.020910671861401525), ('barnier', 0.0207747967998208), ('leyen', 0.020388146510323123), ('von', 0.020388146510323123), ('der', 0.01907694079755318)]\n",
            "45  :  [('cells', 0.01681234169163996), ('vaccine', 0.015327151236309698), ('vitamin', 0.014833705518512293), ('biontech', 0.014275881190980933), ('immune', 0.012877780522320926), ('pfizer', 0.011806356817737904), ('trial', 0.011275570278994269), ('antibodies', 0.010834827681504596), ('doses', 0.010409656714752179), ('şahin', 0.009446229676680287)]\n",
            "46  :  [('plants', 0.03153416295362612), ('birds', 0.024059063222063897), ('peacocks', 0.022029289533381395), ('plant', 0.01911523365035829), ('zealand', 0.016751217055590493), ('adkins', 0.01605523671873653), ('peafowl', 0.01605523671873653), ('moreham', 0.013892367749933661), ('gardening', 0.013892367749933661), ('beauchamp', 0.013892367749933661)]\n",
            "47  :  [('ireland', 0.016539538649372323), ('scottish', 0.016345326613145694), ('northern', 0.014800177955229992), ('scotland', 0.013445758242978653), ('seed', 0.01294840774911807), ('potatoes', 0.010917331129469991), ('furlough', 0.010217407501997372), ('buckland', 0.009357712396688565), ('canada', 0.00881613164679646), ('demand', 0.008796275892094202)]\n",
            "48  :  [('tb', 0.022679340369248267), ('vaccination', 0.01839186769712817), ('nhs', 0.01714403160790226), ('gps', 0.011197460402405301), ('centres', 0.010839379838381697), ('lamp', 0.009512491926337444), ('care', 0.008998308255248246), ('rollout', 0.00896195325914871), ('test', 0.008827525572156878), ('mass', 0.008552579485090786)]\n",
            "49  :  [('saudi', 0.03653226616481261), ('enaire', 0.02338537348294657), ('g20', 0.022627255385435464), ('laws', 0.020722985354339675), ('bin', 0.018856046154529554), ('amendment', 0.01798236222720177), ('oil', 0.017464195756753443), ('gender', 0.01700364810640227), ('emirati', 0.016919642785706995), ('jailed', 0.016319000218438472)]\n",
            "50  :  [('lukashenko', 0.019096033518162463), ('christmas', 0.011259898211412187), ('vlasova', 0.01074612173237787), ('remembrance', 0.010434236597786056), ('worship', 0.010310401640723629), ('stevens', 0.009127159348687639), ('circuit', 0.007852732066174768), ('tory', 0.007794419496033323), ('impact', 0.007392741105665648), ('tikhanovsky', 0.006887542275129307)]\n",
            "51  :  [('gas', 0.038724766090383396), ('hydrogen', 0.025991818874651275), ('russia', 0.022652000222653935), ('emissions', 0.022143218788341912), ('novak', 0.02074920410850532), ('carbon', 0.01897990181857878), ('production', 0.018078088698505985), ('energy', 0.017926106228135546), ('york', 0.015846972686492832), ('cubic', 0.011259253199215927)]\n",
            "52  :  [('migration', 0.026998887440893585), ('breweries', 0.02618580672932394), ('canaries', 0.020732242361602034), ('alibaba', 0.01842203657352861), ('migrants', 0.018214367105942566), ('reception', 0.016419942487830873), ('jalloul', 0.016119282001837536), ('spain', 0.014827091524947513), ('ant', 0.014706265798554026), ('arrivals', 0.014643518091573332)]\n",
            "53  :  [('estonia', 0.011984503407613496), ('youth', 0.011976473283468346), ('unemployment', 0.010832141068101578), ('digital', 0.010322992447931247), ('deaths', 0.008872608569852343), ('increased', 0.008764905979702411), ('eaqub', 0.008729543466694065), ('pollution', 0.008590511170079968), ('react', 0.00816369042509496), ('infections', 0.008113415188967191)]\n",
            "54  :  [('childcare', 0.011770434442802877), ('gove', 0.009573454472723812), ('household', 0.009058339006803764), ('continuity', 0.008766804306312), ('agreements', 0.008691950046428747), ('turn', 0.0077949156874479895), ('firebreak', 0.007726177819047775), ('scheme', 0.007520072792636587), ('drakeford', 0.007225065126259075), ('wales', 0.007151587859309454)]\n",
            "55  :  [('universities', 0.021672718258524883), ('students', 0.016694601709766332), ('travel', 0.009966823443236726), ('wales', 0.00928754031075212), ('wrexham', 0.009248862677941477), ('testing', 0.007867284609415865), ('christmas', 0.007310826481116853), ('chester', 0.006908028002226346), ('plans', 0.006901443743198894), ('england', 0.00663403700953073)]\n",
            "56  :  [('ireland', 0.015121863907997553), ('products', 0.014771321304087379), ('food', 0.012641723278890198), ('chains', 0.012637949152806693), ('checks', 0.0121862974492915), ('sainsbury', 0.011513380003710579), ('roberts', 0.011140133805581624), ('aviation', 0.011140133805581624), ('northern', 0.010571555682307138), ('eu', 0.009876282789700697)]\n",
            "57  :  [('dalai', 0.02101089266221029), ('lama', 0.019379231436048878), ('bike', 0.014377342062245087), ('spaces', 0.012868814092539682), ('infrastructure', 0.011673822308360421), ('closing', 0.010402761306050794), ('bhattacharya', 0.010218794157704224), ('climate', 0.009335170965283558), ('green', 0.009130364770953784), ('lanes', 0.008846225483328096)]\n"
          ],
          "name": "stdout"
        }
      ]
    }
  ]
}